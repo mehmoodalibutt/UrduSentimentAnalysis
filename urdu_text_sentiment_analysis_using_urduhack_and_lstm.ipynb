{
  "nbformat": 4,
  "nbformat_minor": 0,
  "metadata": {
    "colab": {
      "name": "urdu-text-sentiment-analysis-using_urduhack_and_lstm.ipynb",
      "provenance": [],
      "collapsed_sections": []
    },
    "kernelspec": {
      "display_name": "Python 3",
      "language": "python",
      "name": "python3"
    },
    "language_info": {
      "codemirror_mode": {
        "name": "ipython",
        "version": 3
      },
      "file_extension": ".py",
      "mimetype": "text/x-python",
      "name": "python",
      "nbconvert_exporter": "python",
      "pygments_lexer": "ipython3",
      "version": "3.7.6"
    },
    "accelerator": "GPU"
  },
  "cells": [
    {
      "cell_type": "code",
      "metadata": {
        "id": "DvBqGX-fLbVv",
        "colab": {
          "base_uri": "https://localhost:8080/"
        },
        "outputId": "ddc42bc4-0c4c-4cdc-c815-e3da6352fce4"
      },
      "source": [
        "! pip install urduhack"
      ],
      "execution_count": 1,
      "outputs": [
        {
          "output_type": "stream",
          "name": "stdout",
          "text": [
            "Collecting urduhack\n",
            "  Downloading urduhack-1.1.1-py3-none-any.whl (105 kB)\n",
            "\u001b[?25l\r\u001b[K     |███                             | 10 kB 20.1 MB/s eta 0:00:01\r\u001b[K     |██████▏                         | 20 kB 5.7 MB/s eta 0:00:01\r\u001b[K     |█████████▎                      | 30 kB 5.2 MB/s eta 0:00:01\r\u001b[K     |████████████▍                   | 40 kB 4.7 MB/s eta 0:00:01\r\u001b[K     |███████████████▌                | 51 kB 3.8 MB/s eta 0:00:01\r\u001b[K     |██████████████████▋             | 61 kB 4.4 MB/s eta 0:00:01\r\u001b[K     |█████████████████████▊          | 71 kB 4.6 MB/s eta 0:00:01\r\u001b[K     |████████████████████████▉       | 81 kB 4.6 MB/s eta 0:00:01\r\u001b[K     |████████████████████████████    | 92 kB 5.1 MB/s eta 0:00:01\r\u001b[K     |███████████████████████████████ | 102 kB 5.3 MB/s eta 0:00:01\r\u001b[K     |████████████████████████████████| 105 kB 5.3 MB/s \n",
            "\u001b[?25hRequirement already satisfied: regex in /usr/local/lib/python3.7/dist-packages (from urduhack) (2019.12.20)\n",
            "Collecting tensorflow-datasets~=3.1\n",
            "  Downloading tensorflow_datasets-3.2.1-py3-none-any.whl (3.4 MB)\n",
            "\u001b[K     |████████████████████████████████| 3.4 MB 11.8 MB/s \n",
            "\u001b[?25hRequirement already satisfied: Click~=7.1 in /usr/local/lib/python3.7/dist-packages (from urduhack) (7.1.2)\n",
            "Collecting tf2crf\n",
            "  Downloading tf2crf-0.1.33-py2.py3-none-any.whl (7.3 kB)\n",
            "Requirement already satisfied: six in /usr/local/lib/python3.7/dist-packages (from tensorflow-datasets~=3.1->urduhack) (1.15.0)\n",
            "Requirement already satisfied: attrs>=18.1.0 in /usr/local/lib/python3.7/dist-packages (from tensorflow-datasets~=3.1->urduhack) (21.4.0)\n",
            "Requirement already satisfied: requests>=2.19.0 in /usr/local/lib/python3.7/dist-packages (from tensorflow-datasets~=3.1->urduhack) (2.23.0)\n",
            "Requirement already satisfied: protobuf>=3.6.1 in /usr/local/lib/python3.7/dist-packages (from tensorflow-datasets~=3.1->urduhack) (3.17.3)\n",
            "Requirement already satisfied: tensorflow-metadata in /usr/local/lib/python3.7/dist-packages (from tensorflow-datasets~=3.1->urduhack) (1.6.0)\n",
            "Requirement already satisfied: future in /usr/local/lib/python3.7/dist-packages (from tensorflow-datasets~=3.1->urduhack) (0.16.0)\n",
            "Requirement already satisfied: promise in /usr/local/lib/python3.7/dist-packages (from tensorflow-datasets~=3.1->urduhack) (2.3)\n",
            "Requirement already satisfied: absl-py in /usr/local/lib/python3.7/dist-packages (from tensorflow-datasets~=3.1->urduhack) (1.0.0)\n",
            "Requirement already satisfied: termcolor in /usr/local/lib/python3.7/dist-packages (from tensorflow-datasets~=3.1->urduhack) (1.1.0)\n",
            "Requirement already satisfied: dill in /usr/local/lib/python3.7/dist-packages (from tensorflow-datasets~=3.1->urduhack) (0.3.4)\n",
            "Requirement already satisfied: tqdm in /usr/local/lib/python3.7/dist-packages (from tensorflow-datasets~=3.1->urduhack) (4.62.3)\n",
            "Requirement already satisfied: wrapt in /usr/local/lib/python3.7/dist-packages (from tensorflow-datasets~=3.1->urduhack) (1.13.3)\n",
            "Requirement already satisfied: numpy in /usr/local/lib/python3.7/dist-packages (from tensorflow-datasets~=3.1->urduhack) (1.21.5)\n",
            "Requirement already satisfied: idna<3,>=2.5 in /usr/local/lib/python3.7/dist-packages (from requests>=2.19.0->tensorflow-datasets~=3.1->urduhack) (2.10)\n",
            "Requirement already satisfied: urllib3!=1.25.0,!=1.25.1,<1.26,>=1.21.1 in /usr/local/lib/python3.7/dist-packages (from requests>=2.19.0->tensorflow-datasets~=3.1->urduhack) (1.24.3)\n",
            "Requirement already satisfied: chardet<4,>=3.0.2 in /usr/local/lib/python3.7/dist-packages (from requests>=2.19.0->tensorflow-datasets~=3.1->urduhack) (3.0.4)\n",
            "Requirement already satisfied: certifi>=2017.4.17 in /usr/local/lib/python3.7/dist-packages (from requests>=2.19.0->tensorflow-datasets~=3.1->urduhack) (2021.10.8)\n",
            "Requirement already satisfied: googleapis-common-protos<2,>=1.52.0 in /usr/local/lib/python3.7/dist-packages (from tensorflow-metadata->tensorflow-datasets~=3.1->urduhack) (1.54.0)\n",
            "Requirement already satisfied: tensorflow>=2.1.0 in /usr/local/lib/python3.7/dist-packages (from tf2crf->urduhack) (2.8.0)\n",
            "Collecting tensorflow-addons>=0.8.2\n",
            "  Downloading tensorflow_addons-0.16.1-cp37-cp37m-manylinux_2_12_x86_64.manylinux2010_x86_64.whl (1.1 MB)\n",
            "\u001b[K     |████████████████████████████████| 1.1 MB 19.9 MB/s \n",
            "\u001b[?25hRequirement already satisfied: libclang>=9.0.1 in /usr/local/lib/python3.7/dist-packages (from tensorflow>=2.1.0->tf2crf->urduhack) (13.0.0)\n",
            "Requirement already satisfied: keras<2.9,>=2.8.0rc0 in /usr/local/lib/python3.7/dist-packages (from tensorflow>=2.1.0->tf2crf->urduhack) (2.8.0)\n",
            "Requirement already satisfied: astunparse>=1.6.0 in /usr/local/lib/python3.7/dist-packages (from tensorflow>=2.1.0->tf2crf->urduhack) (1.6.3)\n",
            "Requirement already satisfied: opt-einsum>=2.3.2 in /usr/local/lib/python3.7/dist-packages (from tensorflow>=2.1.0->tf2crf->urduhack) (3.3.0)\n",
            "Requirement already satisfied: grpcio<2.0,>=1.24.3 in /usr/local/lib/python3.7/dist-packages (from tensorflow>=2.1.0->tf2crf->urduhack) (1.43.0)\n",
            "Collecting tf-estimator-nightly==2.8.0.dev2021122109\n",
            "  Downloading tf_estimator_nightly-2.8.0.dev2021122109-py2.py3-none-any.whl (462 kB)\n",
            "\u001b[K     |████████████████████████████████| 462 kB 36.3 MB/s \n",
            "\u001b[?25hRequirement already satisfied: h5py>=2.9.0 in /usr/local/lib/python3.7/dist-packages (from tensorflow>=2.1.0->tf2crf->urduhack) (3.1.0)\n",
            "Requirement already satisfied: tensorflow-io-gcs-filesystem>=0.23.1 in /usr/local/lib/python3.7/dist-packages (from tensorflow>=2.1.0->tf2crf->urduhack) (0.24.0)\n",
            "Requirement already satisfied: keras-preprocessing>=1.1.1 in /usr/local/lib/python3.7/dist-packages (from tensorflow>=2.1.0->tf2crf->urduhack) (1.1.2)\n",
            "Requirement already satisfied: google-pasta>=0.1.1 in /usr/local/lib/python3.7/dist-packages (from tensorflow>=2.1.0->tf2crf->urduhack) (0.2.0)\n",
            "Requirement already satisfied: flatbuffers>=1.12 in /usr/local/lib/python3.7/dist-packages (from tensorflow>=2.1.0->tf2crf->urduhack) (2.0)\n",
            "Requirement already satisfied: tensorboard<2.9,>=2.8 in /usr/local/lib/python3.7/dist-packages (from tensorflow>=2.1.0->tf2crf->urduhack) (2.8.0)\n",
            "Requirement already satisfied: typing-extensions>=3.6.6 in /usr/local/lib/python3.7/dist-packages (from tensorflow>=2.1.0->tf2crf->urduhack) (3.10.0.2)\n",
            "Requirement already satisfied: gast>=0.2.1 in /usr/local/lib/python3.7/dist-packages (from tensorflow>=2.1.0->tf2crf->urduhack) (0.5.3)\n",
            "Requirement already satisfied: setuptools in /usr/local/lib/python3.7/dist-packages (from tensorflow>=2.1.0->tf2crf->urduhack) (57.4.0)\n",
            "Requirement already satisfied: wheel<1.0,>=0.23.0 in /usr/local/lib/python3.7/dist-packages (from astunparse>=1.6.0->tensorflow>=2.1.0->tf2crf->urduhack) (0.37.1)\n",
            "Requirement already satisfied: cached-property in /usr/local/lib/python3.7/dist-packages (from h5py>=2.9.0->tensorflow>=2.1.0->tf2crf->urduhack) (1.5.2)\n",
            "Requirement already satisfied: werkzeug>=0.11.15 in /usr/local/lib/python3.7/dist-packages (from tensorboard<2.9,>=2.8->tensorflow>=2.1.0->tf2crf->urduhack) (1.0.1)\n",
            "Requirement already satisfied: markdown>=2.6.8 in /usr/local/lib/python3.7/dist-packages (from tensorboard<2.9,>=2.8->tensorflow>=2.1.0->tf2crf->urduhack) (3.3.6)\n",
            "Requirement already satisfied: tensorboard-data-server<0.7.0,>=0.6.0 in /usr/local/lib/python3.7/dist-packages (from tensorboard<2.9,>=2.8->tensorflow>=2.1.0->tf2crf->urduhack) (0.6.1)\n",
            "Requirement already satisfied: google-auth-oauthlib<0.5,>=0.4.1 in /usr/local/lib/python3.7/dist-packages (from tensorboard<2.9,>=2.8->tensorflow>=2.1.0->tf2crf->urduhack) (0.4.6)\n",
            "Requirement already satisfied: tensorboard-plugin-wit>=1.6.0 in /usr/local/lib/python3.7/dist-packages (from tensorboard<2.9,>=2.8->tensorflow>=2.1.0->tf2crf->urduhack) (1.8.1)\n",
            "Requirement already satisfied: google-auth<3,>=1.6.3 in /usr/local/lib/python3.7/dist-packages (from tensorboard<2.9,>=2.8->tensorflow>=2.1.0->tf2crf->urduhack) (1.35.0)\n",
            "Requirement already satisfied: rsa<5,>=3.1.4 in /usr/local/lib/python3.7/dist-packages (from google-auth<3,>=1.6.3->tensorboard<2.9,>=2.8->tensorflow>=2.1.0->tf2crf->urduhack) (4.8)\n",
            "Requirement already satisfied: pyasn1-modules>=0.2.1 in /usr/local/lib/python3.7/dist-packages (from google-auth<3,>=1.6.3->tensorboard<2.9,>=2.8->tensorflow>=2.1.0->tf2crf->urduhack) (0.2.8)\n",
            "Requirement already satisfied: cachetools<5.0,>=2.0.0 in /usr/local/lib/python3.7/dist-packages (from google-auth<3,>=1.6.3->tensorboard<2.9,>=2.8->tensorflow>=2.1.0->tf2crf->urduhack) (4.2.4)\n",
            "Requirement already satisfied: requests-oauthlib>=0.7.0 in /usr/local/lib/python3.7/dist-packages (from google-auth-oauthlib<0.5,>=0.4.1->tensorboard<2.9,>=2.8->tensorflow>=2.1.0->tf2crf->urduhack) (1.3.1)\n",
            "Requirement already satisfied: importlib-metadata>=4.4 in /usr/local/lib/python3.7/dist-packages (from markdown>=2.6.8->tensorboard<2.9,>=2.8->tensorflow>=2.1.0->tf2crf->urduhack) (4.11.1)\n",
            "Requirement already satisfied: zipp>=0.5 in /usr/local/lib/python3.7/dist-packages (from importlib-metadata>=4.4->markdown>=2.6.8->tensorboard<2.9,>=2.8->tensorflow>=2.1.0->tf2crf->urduhack) (3.7.0)\n",
            "Requirement already satisfied: pyasn1<0.5.0,>=0.4.6 in /usr/local/lib/python3.7/dist-packages (from pyasn1-modules>=0.2.1->google-auth<3,>=1.6.3->tensorboard<2.9,>=2.8->tensorflow>=2.1.0->tf2crf->urduhack) (0.4.8)\n",
            "Requirement already satisfied: oauthlib>=3.0.0 in /usr/local/lib/python3.7/dist-packages (from requests-oauthlib>=0.7.0->google-auth-oauthlib<0.5,>=0.4.1->tensorboard<2.9,>=2.8->tensorflow>=2.1.0->tf2crf->urduhack) (3.2.0)\n",
            "Requirement already satisfied: typeguard>=2.7 in /usr/local/lib/python3.7/dist-packages (from tensorflow-addons>=0.8.2->tf2crf->urduhack) (2.7.1)\n",
            "Installing collected packages: tf-estimator-nightly, tensorflow-addons, tf2crf, tensorflow-datasets, urduhack\n",
            "  Attempting uninstall: tensorflow-datasets\n",
            "    Found existing installation: tensorflow-datasets 4.0.1\n",
            "    Uninstalling tensorflow-datasets-4.0.1:\n",
            "      Successfully uninstalled tensorflow-datasets-4.0.1\n",
            "Successfully installed tensorflow-addons-0.16.1 tensorflow-datasets-3.2.1 tf-estimator-nightly-2.8.0.dev2021122109 tf2crf-0.1.33 urduhack-1.1.1\n"
          ]
        }
      ]
    },
    {
      "cell_type": "markdown",
      "metadata": {
        "id": "41sLi2rWLbV-"
      },
      "source": [
        "## 1. Import Libraries"
      ]
    },
    {
      "cell_type": "code",
      "metadata": {
        "id": "U1S5c9fQxLfJ"
      },
      "source": [
        "import pandas as pd\n",
        "import numpy as np\n",
        "\n",
        "# Import Plotting Libararies\n",
        "import seaborn as sns\n",
        "import matplotlib.pyplot as plt\n",
        "\n",
        "# Import Data Preprocessing Libraries \n",
        "from sklearn.preprocessing import LabelEncoder\n",
        "from sklearn.model_selection import train_test_split\n",
        "from sklearn.feature_extraction.text import TfidfVectorizer\n",
        "\n",
        "# Machine Learning Models\n",
        "from sklearn import svm  \n",
        "from sklearn.naive_bayes import GaussianNB\n",
        "from sklearn.linear_model import LogisticRegression\n",
        "from sklearn.tree import DecisionTreeClassifier\n",
        "from sklearn.ensemble import RandomForestClassifier\n",
        "from sklearn.ensemble import GradientBoostingClassifier\n",
        "from sklearn.ensemble import AdaBoostClassifier\n",
        "import xgboost as xgb\n",
        "\n",
        "# Model Evaluation Libraries\n",
        "from sklearn.metrics import precision_recall_fscore_support, accuracy_score, classification_report"
      ],
      "execution_count": 2,
      "outputs": []
    },
    {
      "cell_type": "markdown",
      "metadata": {
        "id": "I5dKvNwo5_ye"
      },
      "source": [
        "### 1.1 Urduhack\n",
        "\n",
        "Urduhack is a NLP library for urdu language. It comes with a lot of battery included features to help you process Urdu data in the easiest way possible.\n",
        " \n",
        "https://docs.urduhack.com/en/stable/\n",
        "\n"
      ]
    },
    {
      "cell_type": "code",
      "metadata": {
        "id": "rjC29M2s4UMF",
        "colab": {
          "base_uri": "https://localhost:8080/"
        },
        "outputId": "d26a6bc2-b176-48e2-e185-0356b359bc4b"
      },
      "source": [
        "import urduhack\n",
        "urduhack.download()\n",
        "from urduhack.normalization import normalize\n",
        "from urduhack.preprocessing import normalize_whitespace, remove_punctuation, remove_accents, replace_urls, replace_emails, replace_numbers, replace_currency_symbols, remove_english_alphabets"
      ],
      "execution_count": 3,
      "outputs": [
        {
          "output_type": "stream",
          "name": "stdout",
          "text": [
            "Downloading data from https://github.com/urduhack/resources/releases/download/word_tokenizer/word_tokenizer.zip\n",
            "36790272/36788015 [==============================] - 0s 0us/step\n",
            "36798464/36788015 [==============================] - 0s 0us/step\n",
            "Downloading data from https://github.com/urduhack/resources/releases/download/pos_tagger/pos_tagger.zip\n",
            "2768896/2761433 [==============================] - 0s 0us/step\n",
            "2777088/2761433 [==============================] - 0s 0us/step\n",
            "Downloading data from https://github.com/urduhack/resources/releases/download/ner/ner.zip\n",
            "11730944/11723346 [==============================] - 0s 0us/step\n",
            "11739136/11723346 [==============================] - 0s 0us/step\n",
            "Downloading data from https://github.com/urduhack/resources/releases/download/lemmatizer/ur_lemma_lookup.zip\n",
            "90112/89078 [==============================] - 0s 0us/step\n",
            "98304/89078 [=================================] - 0s 0us/step\n"
          ]
        }
      ]
    },
    {
      "cell_type": "markdown",
      "metadata": {
        "id": "jb6E5NosxLfK"
      },
      "source": [
        "## 2. Read Dataset into Pandas"
      ]
    },
    {
      "cell_type": "code",
      "metadata": {
        "id": "6Ch0hvksLbWC",
        "colab": {
          "base_uri": "https://localhost:8080/"
        },
        "outputId": "28c8b7fb-d247-4cb4-eb01-9d00b3469bf8"
      },
      "source": [
        "train_data = pd.read_csv(\"imdb_urdu_reviews_train.csv\")\n",
        "test_data = pd.read_csv(\"imdb_urdu_reviews_test.csv\")\n",
        "\n",
        "train_data.head(), test_data.head()"
      ],
      "execution_count": 7,
      "outputs": [
        {
          "output_type": "execute_result",
          "data": {
            "text/plain": [
              "(                                              review sentiment\n",
              " 0  میں نے اسے 80 کی دہائی کے وسط میں ایک کیبل گائ...  positive\n",
              " 1  چونکہ میں نے 80 کی دہائی میں انسپکٹر گیجٹ کارٹ...  negative\n",
              " 2  ایک ایسے معاشرے کی حالت کے بارے میں تعجب کرتا ...  positive\n",
              " 3  مفید البرٹ پیون کی طرف سے ایک اور ردی کی ٹوکری...  negative\n",
              " 4  یہ کولمبو ہے جس کی ہدایتکاری اپنے کیریئر کے اب...  positive,\n",
              "                                               review sentiment\n",
              " 0  یہ بے گھر خواتین کے بارے میں ایک دستاویزی فلم ...  negative\n",
              " 1  بالکل بھی اچھ ،ی کام نہیں کیا گیا ، پوری فلم ص...  negative\n",
              " 2  یہ عجیب بات ہے کہ کچھ لوگوں کا کیا حشر ہوتا ہے...  negative\n",
              " 3  اور یہ خاص طور پر وکیلوں اور پولیس اہلکاروں کے...  positive\n",
              " 4  پہلے ، ایک وضاحت: میری سرخی کے باوجود ، میں اس...  positive)"
            ]
          },
          "metadata": {},
          "execution_count": 7
        }
      ]
    },
    {
      "cell_type": "code",
      "metadata": {
        "id": "8LqATELKLbWC",
        "colab": {
          "base_uri": "https://localhost:8080/"
        },
        "outputId": "45457102-147f-49a7-d093-53b3f73ea39a"
      },
      "source": [
        "# Combine Both Files to Preprocess\n",
        "data =  pd.concat([train_data, test_data]).reset_index(drop=True)\n",
        "print(data.shape)\n"
      ],
      "execution_count": 8,
      "outputs": [
        {
          "output_type": "stream",
          "name": "stdout",
          "text": [
            "(50000, 2)\n"
          ]
        }
      ]
    },
    {
      "cell_type": "code",
      "metadata": {
        "id": "KEPQMB85LbWD",
        "colab": {
          "base_uri": "https://localhost:8080/",
          "height": 423
        },
        "outputId": "509f67d6-6ce0-4285-ee0a-253de1e539f0"
      },
      "source": [
        "# Make copy of a dataset\n",
        "df =  data.copy()\n",
        "df"
      ],
      "execution_count": 9,
      "outputs": [
        {
          "output_type": "execute_result",
          "data": {
            "text/html": [
              "\n",
              "  <div id=\"df-94b10110-67aa-48a8-9171-2be6699d50a5\">\n",
              "    <div class=\"colab-df-container\">\n",
              "      <div>\n",
              "<style scoped>\n",
              "    .dataframe tbody tr th:only-of-type {\n",
              "        vertical-align: middle;\n",
              "    }\n",
              "\n",
              "    .dataframe tbody tr th {\n",
              "        vertical-align: top;\n",
              "    }\n",
              "\n",
              "    .dataframe thead th {\n",
              "        text-align: right;\n",
              "    }\n",
              "</style>\n",
              "<table border=\"1\" class=\"dataframe\">\n",
              "  <thead>\n",
              "    <tr style=\"text-align: right;\">\n",
              "      <th></th>\n",
              "      <th>review</th>\n",
              "      <th>sentiment</th>\n",
              "    </tr>\n",
              "  </thead>\n",
              "  <tbody>\n",
              "    <tr>\n",
              "      <th>0</th>\n",
              "      <td>میں نے اسے 80 کی دہائی کے وسط میں ایک کیبل گائ...</td>\n",
              "      <td>positive</td>\n",
              "    </tr>\n",
              "    <tr>\n",
              "      <th>1</th>\n",
              "      <td>چونکہ میں نے 80 کی دہائی میں انسپکٹر گیجٹ کارٹ...</td>\n",
              "      <td>negative</td>\n",
              "    </tr>\n",
              "    <tr>\n",
              "      <th>2</th>\n",
              "      <td>ایک ایسے معاشرے کی حالت کے بارے میں تعجب کرتا ...</td>\n",
              "      <td>positive</td>\n",
              "    </tr>\n",
              "    <tr>\n",
              "      <th>3</th>\n",
              "      <td>مفید البرٹ پیون کی طرف سے ایک اور ردی کی ٹوکری...</td>\n",
              "      <td>negative</td>\n",
              "    </tr>\n",
              "    <tr>\n",
              "      <th>4</th>\n",
              "      <td>یہ کولمبو ہے جس کی ہدایتکاری اپنے کیریئر کے اب...</td>\n",
              "      <td>positive</td>\n",
              "    </tr>\n",
              "    <tr>\n",
              "      <th>...</th>\n",
              "      <td>...</td>\n",
              "      <td>...</td>\n",
              "    </tr>\n",
              "    <tr>\n",
              "      <th>49995</th>\n",
              "      <td>اگر آپ چیخنا چاہتے ہو یا بڑے اسٹوڈیو ہارر پراڈ...</td>\n",
              "      <td>positive</td>\n",
              "    </tr>\n",
              "    <tr>\n",
              "      <th>49996</th>\n",
              "      <td>براہ راست یہ ایک محض ایک چھوٹی سی چھوٹی چھوٹی ...</td>\n",
              "      <td>positive</td>\n",
              "    </tr>\n",
              "    <tr>\n",
              "      <th>49997</th>\n",
              "      <td>میں نے اس فلم کو کل رات آدھی رات کو چپکے سے پہ...</td>\n",
              "      <td>negative</td>\n",
              "    </tr>\n",
              "    <tr>\n",
              "      <th>49998</th>\n",
              "      <td>دیکھنا کوئی آسان فلم نہیں ہے - یہ ساڑھے تین گھ...</td>\n",
              "      <td>positive</td>\n",
              "    </tr>\n",
              "    <tr>\n",
              "      <th>49999</th>\n",
              "      <td>ناگرا قدامت پسند ہندوستانی خاندان سے تعلق رکھت...</td>\n",
              "      <td>positive</td>\n",
              "    </tr>\n",
              "  </tbody>\n",
              "</table>\n",
              "<p>50000 rows × 2 columns</p>\n",
              "</div>\n",
              "      <button class=\"colab-df-convert\" onclick=\"convertToInteractive('df-94b10110-67aa-48a8-9171-2be6699d50a5')\"\n",
              "              title=\"Convert this dataframe to an interactive table.\"\n",
              "              style=\"display:none;\">\n",
              "        \n",
              "  <svg xmlns=\"http://www.w3.org/2000/svg\" height=\"24px\"viewBox=\"0 0 24 24\"\n",
              "       width=\"24px\">\n",
              "    <path d=\"M0 0h24v24H0V0z\" fill=\"none\"/>\n",
              "    <path d=\"M18.56 5.44l.94 2.06.94-2.06 2.06-.94-2.06-.94-.94-2.06-.94 2.06-2.06.94zm-11 1L8.5 8.5l.94-2.06 2.06-.94-2.06-.94L8.5 2.5l-.94 2.06-2.06.94zm10 10l.94 2.06.94-2.06 2.06-.94-2.06-.94-.94-2.06-.94 2.06-2.06.94z\"/><path d=\"M17.41 7.96l-1.37-1.37c-.4-.4-.92-.59-1.43-.59-.52 0-1.04.2-1.43.59L10.3 9.45l-7.72 7.72c-.78.78-.78 2.05 0 2.83L4 21.41c.39.39.9.59 1.41.59.51 0 1.02-.2 1.41-.59l7.78-7.78 2.81-2.81c.8-.78.8-2.07 0-2.86zM5.41 20L4 18.59l7.72-7.72 1.47 1.35L5.41 20z\"/>\n",
              "  </svg>\n",
              "      </button>\n",
              "      \n",
              "  <style>\n",
              "    .colab-df-container {\n",
              "      display:flex;\n",
              "      flex-wrap:wrap;\n",
              "      gap: 12px;\n",
              "    }\n",
              "\n",
              "    .colab-df-convert {\n",
              "      background-color: #E8F0FE;\n",
              "      border: none;\n",
              "      border-radius: 50%;\n",
              "      cursor: pointer;\n",
              "      display: none;\n",
              "      fill: #1967D2;\n",
              "      height: 32px;\n",
              "      padding: 0 0 0 0;\n",
              "      width: 32px;\n",
              "    }\n",
              "\n",
              "    .colab-df-convert:hover {\n",
              "      background-color: #E2EBFA;\n",
              "      box-shadow: 0px 1px 2px rgba(60, 64, 67, 0.3), 0px 1px 3px 1px rgba(60, 64, 67, 0.15);\n",
              "      fill: #174EA6;\n",
              "    }\n",
              "\n",
              "    [theme=dark] .colab-df-convert {\n",
              "      background-color: #3B4455;\n",
              "      fill: #D2E3FC;\n",
              "    }\n",
              "\n",
              "    [theme=dark] .colab-df-convert:hover {\n",
              "      background-color: #434B5C;\n",
              "      box-shadow: 0px 1px 3px 1px rgba(0, 0, 0, 0.15);\n",
              "      filter: drop-shadow(0px 1px 2px rgba(0, 0, 0, 0.3));\n",
              "      fill: #FFFFFF;\n",
              "    }\n",
              "  </style>\n",
              "\n",
              "      <script>\n",
              "        const buttonEl =\n",
              "          document.querySelector('#df-94b10110-67aa-48a8-9171-2be6699d50a5 button.colab-df-convert');\n",
              "        buttonEl.style.display =\n",
              "          google.colab.kernel.accessAllowed ? 'block' : 'none';\n",
              "\n",
              "        async function convertToInteractive(key) {\n",
              "          const element = document.querySelector('#df-94b10110-67aa-48a8-9171-2be6699d50a5');\n",
              "          const dataTable =\n",
              "            await google.colab.kernel.invokeFunction('convertToInteractive',\n",
              "                                                     [key], {});\n",
              "          if (!dataTable) return;\n",
              "\n",
              "          const docLinkHtml = 'Like what you see? Visit the ' +\n",
              "            '<a target=\"_blank\" href=https://colab.research.google.com/notebooks/data_table.ipynb>data table notebook</a>'\n",
              "            + ' to learn more about interactive tables.';\n",
              "          element.innerHTML = '';\n",
              "          dataTable['output_type'] = 'display_data';\n",
              "          await google.colab.output.renderOutput(dataTable, element);\n",
              "          const docLink = document.createElement('div');\n",
              "          docLink.innerHTML = docLinkHtml;\n",
              "          element.appendChild(docLink);\n",
              "        }\n",
              "      </script>\n",
              "    </div>\n",
              "  </div>\n",
              "  "
            ],
            "text/plain": [
              "                                                  review sentiment\n",
              "0      میں نے اسے 80 کی دہائی کے وسط میں ایک کیبل گائ...  positive\n",
              "1      چونکہ میں نے 80 کی دہائی میں انسپکٹر گیجٹ کارٹ...  negative\n",
              "2      ایک ایسے معاشرے کی حالت کے بارے میں تعجب کرتا ...  positive\n",
              "3      مفید البرٹ پیون کی طرف سے ایک اور ردی کی ٹوکری...  negative\n",
              "4      یہ کولمبو ہے جس کی ہدایتکاری اپنے کیریئر کے اب...  positive\n",
              "...                                                  ...       ...\n",
              "49995  اگر آپ چیخنا چاہتے ہو یا بڑے اسٹوڈیو ہارر پراڈ...  positive\n",
              "49996  براہ راست یہ ایک محض ایک چھوٹی سی چھوٹی چھوٹی ...  positive\n",
              "49997  میں نے اس فلم کو کل رات آدھی رات کو چپکے سے پہ...  negative\n",
              "49998  دیکھنا کوئی آسان فلم نہیں ہے - یہ ساڑھے تین گھ...  positive\n",
              "49999  ناگرا قدامت پسند ہندوستانی خاندان سے تعلق رکھت...  positive\n",
              "\n",
              "[50000 rows x 2 columns]"
            ]
          },
          "metadata": {},
          "execution_count": 9
        }
      ]
    },
    {
      "cell_type": "markdown",
      "metadata": {
        "id": "_V14dGozLbWG"
      },
      "source": [
        "## 3. Data Analysis"
      ]
    },
    {
      "cell_type": "code",
      "metadata": {
        "id": "l8_ZvHWtLbWH",
        "colab": {
          "base_uri": "https://localhost:8080/"
        },
        "outputId": "b9c6ccfe-9f3b-4c77-db36-dd512dbde149"
      },
      "source": [
        "# Columns in the dataframe\n",
        "df.columns"
      ],
      "execution_count": 10,
      "outputs": [
        {
          "output_type": "execute_result",
          "data": {
            "text/plain": [
              "Index(['review', 'sentiment'], dtype='object')"
            ]
          },
          "metadata": {},
          "execution_count": 10
        }
      ]
    },
    {
      "cell_type": "code",
      "metadata": {
        "id": "mZ52qJ_vLbWI",
        "colab": {
          "base_uri": "https://localhost:8080/"
        },
        "outputId": "d172edc8-e95b-4db7-db60-12a237b8ea55"
      },
      "source": [
        "df.info()\n"
      ],
      "execution_count": 11,
      "outputs": [
        {
          "output_type": "stream",
          "name": "stdout",
          "text": [
            "<class 'pandas.core.frame.DataFrame'>\n",
            "RangeIndex: 50000 entries, 0 to 49999\n",
            "Data columns (total 2 columns):\n",
            " #   Column     Non-Null Count  Dtype \n",
            "---  ------     --------------  ----- \n",
            " 0   review     50000 non-null  object\n",
            " 1   sentiment  50000 non-null  object\n",
            "dtypes: object(2)\n",
            "memory usage: 781.4+ KB\n"
          ]
        }
      ]
    },
    {
      "cell_type": "markdown",
      "metadata": {
        "id": "qfreZTvBLbWI"
      },
      "source": [
        "There is no null value in the dataframe."
      ]
    },
    {
      "cell_type": "code",
      "metadata": {
        "id": "JanO_WigxLfN",
        "colab": {
          "base_uri": "https://localhost:8080/",
          "height": 279
        },
        "outputId": "15c53add-b0a3-4f89-ba59-c87d201374c5"
      },
      "source": [
        "sns.countplot( x = 'sentiment', data = df );"
      ],
      "execution_count": 12,
      "outputs": [
        {
          "output_type": "display_data",
          "data": {
            "image/png": "[encoded data removed]",
            "text/plain": [
              "<Figure size 432x288 with 1 Axes>"
            ]
          },
          "metadata": {
            "needs_background": "light"
          }
        }
      ]
    },
    {
      "cell_type": "code",
      "metadata": {
        "id": "Z1uv8oehLbWK",
        "colab": {
          "base_uri": "https://localhost:8080/"
        },
        "outputId": "35db4d03-b2fa-4750-a5e9-ce676dca2f9a"
      },
      "source": [
        "df.sentiment.value_counts()"
      ],
      "execution_count": 13,
      "outputs": [
        {
          "output_type": "execute_result",
          "data": {
            "text/plain": [
              "positive    25000\n",
              "negative    25000\n",
              "Name: sentiment, dtype: int64"
            ]
          },
          "metadata": {},
          "execution_count": 13
        }
      ]
    },
    {
      "cell_type": "markdown",
      "metadata": {
        "id": "WXbDbrzqxLfQ"
      },
      "source": [
        "## 4. Data Preprocessing"
      ]
    },
    {
      "cell_type": "markdown",
      "metadata": {
        "id": "8vscOenF77sF"
      },
      "source": [
        "### 4.1 Label Encoding of Target Variable"
      ]
    },
    {
      "cell_type": "code",
      "metadata": {
        "id": "Atm10MFs8Eu8"
      },
      "source": [
        "# Encode the labels\n",
        "le = LabelEncoder()\n",
        "le.fit(df['sentiment'])\n",
        "df['encoded_sentiments'] = le.transform(df['sentiment'])\n"
      ],
      "execution_count": 14,
      "outputs": []
    },
    {
      "cell_type": "code",
      "metadata": {
        "id": "m7p1VKtAwNiN",
        "colab": {
          "base_uri": "https://localhost:8080/",
          "height": 206
        },
        "outputId": "2212c390-e935-47b4-c0e7-a31e33991a13"
      },
      "source": [
        "df.head()"
      ],
      "execution_count": 15,
      "outputs": [
        {
          "output_type": "execute_result",
          "data": {
            "text/html": [
              "\n",
              "  <div id=\"df-9bab109d-c501-4843-bc5d-2f61d213f57a\">\n",
              "    <div class=\"colab-df-container\">\n",
              "      <div>\n",
              "<style scoped>\n",
              "    .dataframe tbody tr th:only-of-type {\n",
              "        vertical-align: middle;\n",
              "    }\n",
              "\n",
              "    .dataframe tbody tr th {\n",
              "        vertical-align: top;\n",
              "    }\n",
              "\n",
              "    .dataframe thead th {\n",
              "        text-align: right;\n",
              "    }\n",
              "</style>\n",
              "<table border=\"1\" class=\"dataframe\">\n",
              "  <thead>\n",
              "    <tr style=\"text-align: right;\">\n",
              "      <th></th>\n",
              "      <th>review</th>\n",
              "      <th>sentiment</th>\n",
              "      <th>encoded_sentiments</th>\n",
              "    </tr>\n",
              "  </thead>\n",
              "  <tbody>\n",
              "    <tr>\n",
              "      <th>0</th>\n",
              "      <td>میں نے اسے 80 کی دہائی کے وسط میں ایک کیبل گائ...</td>\n",
              "      <td>positive</td>\n",
              "      <td>1</td>\n",
              "    </tr>\n",
              "    <tr>\n",
              "      <th>1</th>\n",
              "      <td>چونکہ میں نے 80 کی دہائی میں انسپکٹر گیجٹ کارٹ...</td>\n",
              "      <td>negative</td>\n",
              "      <td>0</td>\n",
              "    </tr>\n",
              "    <tr>\n",
              "      <th>2</th>\n",
              "      <td>ایک ایسے معاشرے کی حالت کے بارے میں تعجب کرتا ...</td>\n",
              "      <td>positive</td>\n",
              "      <td>1</td>\n",
              "    </tr>\n",
              "    <tr>\n",
              "      <th>3</th>\n",
              "      <td>مفید البرٹ پیون کی طرف سے ایک اور ردی کی ٹوکری...</td>\n",
              "      <td>negative</td>\n",
              "      <td>0</td>\n",
              "    </tr>\n",
              "    <tr>\n",
              "      <th>4</th>\n",
              "      <td>یہ کولمبو ہے جس کی ہدایتکاری اپنے کیریئر کے اب...</td>\n",
              "      <td>positive</td>\n",
              "      <td>1</td>\n",
              "    </tr>\n",
              "  </tbody>\n",
              "</table>\n",
              "</div>\n",
              "      <button class=\"colab-df-convert\" onclick=\"convertToInteractive('df-9bab109d-c501-4843-bc5d-2f61d213f57a')\"\n",
              "              title=\"Convert this dataframe to an interactive table.\"\n",
              "              style=\"display:none;\">\n",
              "        \n",
              "  <svg xmlns=\"http://www.w3.org/2000/svg\" height=\"24px\"viewBox=\"0 0 24 24\"\n",
              "       width=\"24px\">\n",
              "    <path d=\"M0 0h24v24H0V0z\" fill=\"none\"/>\n",
              "    <path d=\"M18.56 5.44l.94 2.06.94-2.06 2.06-.94-2.06-.94-.94-2.06-.94 2.06-2.06.94zm-11 1L8.5 8.5l.94-2.06 2.06-.94-2.06-.94L8.5 2.5l-.94 2.06-2.06.94zm10 10l.94 2.06.94-2.06 2.06-.94-2.06-.94-.94-2.06-.94 2.06-2.06.94z\"/><path d=\"M17.41 7.96l-1.37-1.37c-.4-.4-.92-.59-1.43-.59-.52 0-1.04.2-1.43.59L10.3 9.45l-7.72 7.72c-.78.78-.78 2.05 0 2.83L4 21.41c.39.39.9.59 1.41.59.51 0 1.02-.2 1.41-.59l7.78-7.78 2.81-2.81c.8-.78.8-2.07 0-2.86zM5.41 20L4 18.59l7.72-7.72 1.47 1.35L5.41 20z\"/>\n",
              "  </svg>\n",
              "      </button>\n",
              "      \n",
              "  <style>\n",
              "    .colab-df-container {\n",
              "      display:flex;\n",
              "      flex-wrap:wrap;\n",
              "      gap: 12px;\n",
              "    }\n",
              "\n",
              "    .colab-df-convert {\n",
              "      background-color: #E8F0FE;\n",
              "      border: none;\n",
              "      border-radius: 50%;\n",
              "      cursor: pointer;\n",
              "      display: none;\n",
              "      fill: #1967D2;\n",
              "      height: 32px;\n",
              "      padding: 0 0 0 0;\n",
              "      width: 32px;\n",
              "    }\n",
              "\n",
              "    .colab-df-convert:hover {\n",
              "      background-color: #E2EBFA;\n",
              "      box-shadow: 0px 1px 2px rgba(60, 64, 67, 0.3), 0px 1px 3px 1px rgba(60, 64, 67, 0.15);\n",
              "      fill: #174EA6;\n",
              "    }\n",
              "\n",
              "    [theme=dark] .colab-df-convert {\n",
              "      background-color: #3B4455;\n",
              "      fill: #D2E3FC;\n",
              "    }\n",
              "\n",
              "    [theme=dark] .colab-df-convert:hover {\n",
              "      background-color: #434B5C;\n",
              "      box-shadow: 0px 1px 3px 1px rgba(0, 0, 0, 0.15);\n",
              "      filter: drop-shadow(0px 1px 2px rgba(0, 0, 0, 0.3));\n",
              "      fill: #FFFFFF;\n",
              "    }\n",
              "  </style>\n",
              "\n",
              "      <script>\n",
              "        const buttonEl =\n",
              "          document.querySelector('#df-9bab109d-c501-4843-bc5d-2f61d213f57a button.colab-df-convert');\n",
              "        buttonEl.style.display =\n",
              "          google.colab.kernel.accessAllowed ? 'block' : 'none';\n",
              "\n",
              "        async function convertToInteractive(key) {\n",
              "          const element = document.querySelector('#df-9bab109d-c501-4843-bc5d-2f61d213f57a');\n",
              "          const dataTable =\n",
              "            await google.colab.kernel.invokeFunction('convertToInteractive',\n",
              "                                                     [key], {});\n",
              "          if (!dataTable) return;\n",
              "\n",
              "          const docLinkHtml = 'Like what you see? Visit the ' +\n",
              "            '<a target=\"_blank\" href=https://colab.research.google.com/notebooks/data_table.ipynb>data table notebook</a>'\n",
              "            + ' to learn more about interactive tables.';\n",
              "          element.innerHTML = '';\n",
              "          dataTable['output_type'] = 'display_data';\n",
              "          await google.colab.output.renderOutput(dataTable, element);\n",
              "          const docLink = document.createElement('div');\n",
              "          docLink.innerHTML = docLinkHtml;\n",
              "          element.appendChild(docLink);\n",
              "        }\n",
              "      </script>\n",
              "    </div>\n",
              "  </div>\n",
              "  "
            ],
            "text/plain": [
              "                                              review  ... encoded_sentiments\n",
              "0  میں نے اسے 80 کی دہائی کے وسط میں ایک کیبل گائ...  ...                  1\n",
              "1  چونکہ میں نے 80 کی دہائی میں انسپکٹر گیجٹ کارٹ...  ...                  0\n",
              "2  ایک ایسے معاشرے کی حالت کے بارے میں تعجب کرتا ...  ...                  1\n",
              "3  مفید البرٹ پیون کی طرف سے ایک اور ردی کی ٹوکری...  ...                  0\n",
              "4  یہ کولمبو ہے جس کی ہدایتکاری اپنے کیریئر کے اب...  ...                  1\n",
              "\n",
              "[5 rows x 3 columns]"
            ]
          },
          "metadata": {},
          "execution_count": 15
        }
      ]
    },
    {
      "cell_type": "markdown",
      "metadata": {
        "id": "kg3vxbvYLbWN"
      },
      "source": [
        "### 4.2 Apply UrduHack Preprocessing"
      ]
    },
    {
      "cell_type": "code",
      "metadata": {
        "id": "hgwATp9J3u1I"
      },
      "source": [
        "df['review'] = df['review'].apply(normalize) # To normalize some text, all you need to do pass unicode text. It will return a str with normalized characters both single and combined, proper spaces after digits and punctuations and diacritics(Zabar - Paish) removed.\n",
        "df['review'] = df['review'].apply(remove_punctuation) # Remove punctuation from text by removing all instances of marks. marks=',;:'\n",
        "df['review'] = df['review'].apply(remove_accents) # Remove accents from any accented unicode characters in text str, either by transforming them into ascii equivalents or removing them entirely.\n",
        "df['review'] = df['review'].apply(replace_urls) # Replace all URLs in text str with replace_with str.\n",
        "df['review'] = df['review'].apply(replace_emails) # Replace all emails in text str with replace_with str.\n",
        "df['review'] = df['review'].apply(replace_numbers) # Replace all numbers in text str with replace_with str.\n",
        "df['review'] = df['review'].apply(replace_currency_symbols) # Replace all currency symbols in text str with string specified by replace_with str.\n",
        "df['review'] = df['review'].apply(remove_english_alphabets) # Removes English words and digits from a text\n",
        "df['review'] = df['review'].apply(normalize_whitespace) ## Given text str, replace one or more spacings with a single space, and one or more linebreaks with a single newline. Also strip leading/trailing whitespace."
      ],
      "execution_count": 16,
      "outputs": []
    },
    {
      "cell_type": "code",
      "metadata": {
        "id": "I7mQ1Yp8nppL"
      },
      "source": [
        "# Remove Unicodes from Text\n",
        "import regex as re\n",
        "def deEmojify(text):\n",
        "    regrex_pattern = re.compile(pattern = \"[\"\n",
        "        u\"\\U0001F600-\\U0001F64F\"  # emoticons\n",
        "        u\"\\U0001F300-\\U0001F5FF\"  # symbols & pictographs\n",
        "        u\"\\U0001F680-\\U0001F6FF\"  # transport & map symbols\n",
        "        u\"\\U0001F1E0-\\U0001F1FF\"  # flags (iOS)\n",
        "                           \"]+\", flags = re.UNICODE)\n",
        "    return regrex_pattern.sub(r'',text)"
      ],
      "execution_count": 17,
      "outputs": []
    },
    {
      "cell_type": "code",
      "metadata": {
        "id": "QubB-iAWnzYW"
      },
      "source": [
        "# Remove stop words from text\n",
        "from typing import FrozenSet\n",
        "\n",
        "# Urdu Language Stop words list\n",
        "STOP_WORDS: FrozenSet[str] = frozenset(\"\"\"\n",
        " آ آئی آئیں آئے آتا آتی آتے آس آمدید آنا آنسہ آنی آنے آپ آگے آہ آہا آیا اب ابھی ابے\n",
        " ارے اس اسکا اسکی اسکے اسی اسے اف افوہ البتہ الف ان اندر انکا انکی انکے انہوں انہی انہیں اوئے اور اوپر\n",
        " اوہو اپ اپنا اپنوں اپنی اپنے اپنےآپ اکثر اگر اگرچہ اہاہا ایسا ایسی ایسے ایک بائیں بار بارے بالکل باوجود باہر\n",
        " بج بجے بخیر بشرطیکہ بعد بعض بغیر بلکہ بن بنا بناؤ بند بڑی بھر بھریں بھی بہت بہتر تاکہ تاہم تب تجھ\n",
        " تجھی تجھے ترا تری تلک تم تمام تمہارا تمہاروں تمہاری تمہارے تمہیں تو تک تھا تھی تھیں تھے تیرا تیری تیرے\n",
        " جا جاؤ جائیں جائے جاتا جاتی جاتے جانی جانے جب جبکہ جدھر جس جسے جن جناب جنہوں جنہیں جو جہاں جی جیسا\n",
        " جیسوں جیسی جیسے حالانکہ حالاں حصہ حضرت خاطر خالی خواہ خوب خود دائیں درمیان دریں دو دوران دوسرا دوسروں دوسری دوں\n",
        " دکھائیں دی دیئے دیا دیتا دیتی دیتے دیر دینا دینی دینے دیکھو دیں دیے دے ذریعے رکھا رکھتا رکھتی رکھتے رکھنا رکھنی\n",
        " رکھنے رکھو رکھی رکھے رہ رہا رہتا رہتی رہتے رہنا رہنی رہنے رہو رہی رہیں رہے ساتھ سامنے ساڑھے سب سبھی\n",
        " سراسر سمیت سوا سوائے سکا سکتا سکتے سہ سہی سی سے شاید شکریہ صاحب صاحبہ صرف ضرور طرح طرف طور علاوہ عین\n",
        " فقط فلاں فی قبل قطا لئے لائی لائے لاتا لاتی لاتے لانا لانی لانے لایا لو لوجی لوگوں لگ لگا لگتا\n",
        " لگتی لگی لگیں لگے لہذا لی لیا لیتا لیتی لیتے لیکن لیں لیے لے ماسوا مت مجھ مجھی مجھے محترم محترمہ محض\n",
        " مرا مرحبا مری مرے مزید مس مسز مسٹر مطابق مل مکرمی مگر مگھر مہربانی میرا میروں میری میرے میں نا نزدیک\n",
        " نما نہ نہیں نیز نیچے نے و وار واسطے واقعی والا والوں والی والے واہ وجہ ورنہ وغیرہ ولے وگرنہ وہ وہاں\n",
        " وہی وہیں ویسا ویسے ویں پاس پایا پر پس پلیز پون پونی پونے پھر پہ پہلا پہلی پہلے پیر پیچھے چاہئے\n",
        " چاہتے چاہیئے چاہے چلا چلو چلیں چلے چناچہ چند چونکہ چکی چکیں چکے ڈالنا ڈالنی ڈالنے ڈالے کئے کا کاش کب کبھی\n",
        " کدھر کر کرتا کرتی کرتے کرم کرنا کرنے کرو کریں کرے کس کسی کسے کم کن کنہیں کو کوئی کون کونسا\n",
        " کونسے کچھ کہ کہا کہاں کہہ کہی کہیں کہے کی کیا کیسا کیسے کیونکر کیونکہ کیوں کیے کے گئی گئے گا گنا\n",
        " گو گویا گی گیا ہائیں ہائے ہاں ہر ہرچند ہرگز ہم ہمارا ہماری ہمارے ہمی ہمیں ہو ہوئی ہوئیں ہوئے ہوا\n",
        " ہوبہو ہوتا ہوتی ہوتیں ہوتے ہونا ہونگے ہونی ہونے ہوں ہی ہیلو ہیں ہے یا یات یعنی یک یہ یہاں یہی یہیں\n",
        "\"\"\".split())\n",
        "\n",
        "\n",
        "def remove_stopwords(text: str):\n",
        "    return \" \".join(word for word in text.split() if word not in STOP_WORDS)"
      ],
      "execution_count": 18,
      "outputs": []
    },
    {
      "cell_type": "code",
      "metadata": {
        "id": "aFKe_zMhxLfR"
      },
      "source": [
        "from urduhack.models.lemmatizer import lemmatizer\n",
        "def lemitizeStr(str):\n",
        "    lemme_str = \"\"\n",
        "    temp = lemmatizer.lemma_lookup(str)\n",
        "    for t in temp:\n",
        "        lemme_str += t[0] + \" \"\n",
        "    \n",
        "    return lemme_str"
      ],
      "execution_count": 19,
      "outputs": []
    },
    {
      "cell_type": "code",
      "metadata": {
        "id": "BW6iNM_IouyG"
      },
      "source": [
        "df['review'] = df['review'].apply(deEmojify)"
      ],
      "execution_count": 20,
      "outputs": []
    },
    {
      "cell_type": "code",
      "metadata": {
        "id": "2bW8Owhxo7YM"
      },
      "source": [
        "df['review'] =  df['review'].apply(remove_stopwords)"
      ],
      "execution_count": 21,
      "outputs": []
    },
    {
      "cell_type": "code",
      "metadata": {
        "id": "oTztfI9erE7A"
      },
      "source": [
        "df['lemmatizer'] = df['review'].apply(lemitizeStr)"
      ],
      "execution_count": 22,
      "outputs": []
    },
    {
      "cell_type": "code",
      "metadata": {
        "id": "R8YYJKPars4j",
        "colab": {
          "base_uri": "https://localhost:8080/",
          "height": 467
        },
        "outputId": "1095681c-24a7-4fdc-f080-6873b2beee2a"
      },
      "source": [
        "df"
      ],
      "execution_count": 23,
      "outputs": [
        {
          "output_type": "execute_result",
          "data": {
            "text/html": [
              "\n",
              "  <div id=\"df-cc655770-9c04-451b-bd9e-43f6119a050a\">\n",
              "    <div class=\"colab-df-container\">\n",
              "      <div>\n",
              "<style scoped>\n",
              "    .dataframe tbody tr th:only-of-type {\n",
              "        vertical-align: middle;\n",
              "    }\n",
              "\n",
              "    .dataframe tbody tr th {\n",
              "        vertical-align: top;\n",
              "    }\n",
              "\n",
              "    .dataframe thead th {\n",
              "        text-align: right;\n",
              "    }\n",
              "</style>\n",
              "<table border=\"1\" class=\"dataframe\">\n",
              "  <thead>\n",
              "    <tr style=\"text-align: right;\">\n",
              "      <th></th>\n",
              "      <th>review</th>\n",
              "      <th>sentiment</th>\n",
              "      <th>encoded_sentiments</th>\n",
              "      <th>lemmatizer</th>\n",
              "    </tr>\n",
              "  </thead>\n",
              "  <tbody>\n",
              "    <tr>\n",
              "      <th>0</th>\n",
              "      <td>دہائی وسط کیبل گائیڈ اسکائینجر ہنٹ پہلو اپیل ع...</td>\n",
              "      <td>positive</td>\n",
              "      <td>1</td>\n",
              "      <td>دہائی وسط کیبل گائیڈ اسکائینجر ہنٹ پہلو اپیل ع...</td>\n",
              "    </tr>\n",
              "    <tr>\n",
              "      <th>1</th>\n",
              "      <td>دہائی انسپکٹر گیجٹ کارٹون پسند فلم دیکھنے پیسہ...</td>\n",
              "      <td>negative</td>\n",
              "      <td>0</td>\n",
              "      <td>دہائی انسپکٹر گیجٹ کارٹون پسند فلم دیکھنے پیسہ...</td>\n",
              "    </tr>\n",
              "    <tr>\n",
              "      <th>2</th>\n",
              "      <td>معاشرے حالت تعجب والد پیدا البرٹ ٹی فٹزجیرالڈ ...</td>\n",
              "      <td>positive</td>\n",
              "      <td>1</td>\n",
              "      <td>معاشرے حالت تعجب والد پیدا البرٹ ٹی فٹزجیرالڈ ...</td>\n",
              "    </tr>\n",
              "    <tr>\n",
              "      <th>3</th>\n",
              "      <td>مفید البرٹ پیون ردی ٹوکری گریڈ زیڈ جلدی ٹم تھا...</td>\n",
              "      <td>negative</td>\n",
              "      <td>0</td>\n",
              "      <td>مفید البرٹ پیون ردی ٹوکری گریڈ زیڈ جلدی ٹم تھا...</td>\n",
              "    </tr>\n",
              "    <tr>\n",
              "      <th>4</th>\n",
              "      <td>کولمبو ہدایتکاری کیریئر ابتدائی وقت اسٹیون اسپ...</td>\n",
              "      <td>positive</td>\n",
              "      <td>1</td>\n",
              "      <td>کولمبو ہدایتکاری کیریئر ابتدائی وقت اسٹیون اسپ...</td>\n",
              "    </tr>\n",
              "    <tr>\n",
              "      <th>...</th>\n",
              "      <td>...</td>\n",
              "      <td>...</td>\n",
              "      <td>...</td>\n",
              "      <td>...</td>\n",
              "    </tr>\n",
              "    <tr>\n",
              "      <th>49995</th>\n",
              "      <td>چیخنا بڑے اسٹوڈیو ہارر پراڈکٹ چیز دنوں مجبور ہ...</td>\n",
              "      <td>positive</td>\n",
              "      <td>1</td>\n",
              "      <td>چیخنا بڑے اسٹوڈیو ہارر پراڈکٹ چیز دنوں مجبور ہ...</td>\n",
              "    </tr>\n",
              "    <tr>\n",
              "      <th>49996</th>\n",
              "      <td>براہ راست چھوٹی چھوٹی چھوٹی چھوٹی مدت دورانیہ ...</td>\n",
              "      <td>positive</td>\n",
              "      <td>1</td>\n",
              "      <td>براہ راست چھوٹی چھوٹی چھوٹی چھوٹی مدت دورانیہ ...</td>\n",
              "    </tr>\n",
              "    <tr>\n",
              "      <th>49997</th>\n",
              "      <td>فلم کل رات آدھی رات چپکے پیش کش اسکریننگ دیکھا...</td>\n",
              "      <td>negative</td>\n",
              "      <td>0</td>\n",
              "      <td>فلم کل رات آدھی رات چپکے پیش کش اسکریننگ دیکھا...</td>\n",
              "    </tr>\n",
              "    <tr>\n",
              "      <th>49998</th>\n",
              "      <td>دیکھنا آسان فلم تین گھنٹے زیادہ لمبا مکمل گفتگ...</td>\n",
              "      <td>positive</td>\n",
              "      <td>1</td>\n",
              "      <td>دیکھنا آسان فلم تین گھنٹے زیادہ لمبا مکمل گفتگ...</td>\n",
              "    </tr>\n",
              "    <tr>\n",
              "      <th>49999</th>\n",
              "      <td>ناگرا قدامت پسند ہندوستانی خاندان تعلق مقابلہ ...</td>\n",
              "      <td>positive</td>\n",
              "      <td>1</td>\n",
              "      <td>ناگرا قدامت پسند ہندوستانی خاندان تعلق مقابلہ ...</td>\n",
              "    </tr>\n",
              "  </tbody>\n",
              "</table>\n",
              "<p>50000 rows × 4 columns</p>\n",
              "</div>\n",
              "      <button class=\"colab-df-convert\" onclick=\"convertToInteractive('df-cc655770-9c04-451b-bd9e-43f6119a050a')\"\n",
              "              title=\"Convert this dataframe to an interactive table.\"\n",
              "              style=\"display:none;\">\n",
              "        \n",
              "  <svg xmlns=\"http://www.w3.org/2000/svg\" height=\"24px\"viewBox=\"0 0 24 24\"\n",
              "       width=\"24px\">\n",
              "    <path d=\"M0 0h24v24H0V0z\" fill=\"none\"/>\n",
              "    <path d=\"M18.56 5.44l.94 2.06.94-2.06 2.06-.94-2.06-.94-.94-2.06-.94 2.06-2.06.94zm-11 1L8.5 8.5l.94-2.06 2.06-.94-2.06-.94L8.5 2.5l-.94 2.06-2.06.94zm10 10l.94 2.06.94-2.06 2.06-.94-2.06-.94-.94-2.06-.94 2.06-2.06.94z\"/><path d=\"M17.41 7.96l-1.37-1.37c-.4-.4-.92-.59-1.43-.59-.52 0-1.04.2-1.43.59L10.3 9.45l-7.72 7.72c-.78.78-.78 2.05 0 2.83L4 21.41c.39.39.9.59 1.41.59.51 0 1.02-.2 1.41-.59l7.78-7.78 2.81-2.81c.8-.78.8-2.07 0-2.86zM5.41 20L4 18.59l7.72-7.72 1.47 1.35L5.41 20z\"/>\n",
              "  </svg>\n",
              "      </button>\n",
              "      \n",
              "  <style>\n",
              "    .colab-df-container {\n",
              "      display:flex;\n",
              "      flex-wrap:wrap;\n",
              "      gap: 12px;\n",
              "    }\n",
              "\n",
              "    .colab-df-convert {\n",
              "      background-color: #E8F0FE;\n",
              "      border: none;\n",
              "      border-radius: 50%;\n",
              "      cursor: pointer;\n",
              "      display: none;\n",
              "      fill: #1967D2;\n",
              "      height: 32px;\n",
              "      padding: 0 0 0 0;\n",
              "      width: 32px;\n",
              "    }\n",
              "\n",
              "    .colab-df-convert:hover {\n",
              "      background-color: #E2EBFA;\n",
              "      box-shadow: 0px 1px 2px rgba(60, 64, 67, 0.3), 0px 1px 3px 1px rgba(60, 64, 67, 0.15);\n",
              "      fill: #174EA6;\n",
              "    }\n",
              "\n",
              "    [theme=dark] .colab-df-convert {\n",
              "      background-color: #3B4455;\n",
              "      fill: #D2E3FC;\n",
              "    }\n",
              "\n",
              "    [theme=dark] .colab-df-convert:hover {\n",
              "      background-color: #434B5C;\n",
              "      box-shadow: 0px 1px 3px 1px rgba(0, 0, 0, 0.15);\n",
              "      filter: drop-shadow(0px 1px 2px rgba(0, 0, 0, 0.3));\n",
              "      fill: #FFFFFF;\n",
              "    }\n",
              "  </style>\n",
              "\n",
              "      <script>\n",
              "        const buttonEl =\n",
              "          document.querySelector('#df-cc655770-9c04-451b-bd9e-43f6119a050a button.colab-df-convert');\n",
              "        buttonEl.style.display =\n",
              "          google.colab.kernel.accessAllowed ? 'block' : 'none';\n",
              "\n",
              "        async function convertToInteractive(key) {\n",
              "          const element = document.querySelector('#df-cc655770-9c04-451b-bd9e-43f6119a050a');\n",
              "          const dataTable =\n",
              "            await google.colab.kernel.invokeFunction('convertToInteractive',\n",
              "                                                     [key], {});\n",
              "          if (!dataTable) return;\n",
              "\n",
              "          const docLinkHtml = 'Like what you see? Visit the ' +\n",
              "            '<a target=\"_blank\" href=https://colab.research.google.com/notebooks/data_table.ipynb>data table notebook</a>'\n",
              "            + ' to learn more about interactive tables.';\n",
              "          element.innerHTML = '';\n",
              "          dataTable['output_type'] = 'display_data';\n",
              "          await google.colab.output.renderOutput(dataTable, element);\n",
              "          const docLink = document.createElement('div');\n",
              "          docLink.innerHTML = docLinkHtml;\n",
              "          element.appendChild(docLink);\n",
              "        }\n",
              "      </script>\n",
              "    </div>\n",
              "  </div>\n",
              "  "
            ],
            "text/plain": [
              "                                                  review  ...                                         lemmatizer\n",
              "0      دہائی وسط کیبل گائیڈ اسکائینجر ہنٹ پہلو اپیل ع...  ...  دہائی وسط کیبل گائیڈ اسکائینجر ہنٹ پہلو اپیل ع...\n",
              "1      دہائی انسپکٹر گیجٹ کارٹون پسند فلم دیکھنے پیسہ...  ...  دہائی انسپکٹر گیجٹ کارٹون پسند فلم دیکھنے پیسہ...\n",
              "2      معاشرے حالت تعجب والد پیدا البرٹ ٹی فٹزجیرالڈ ...  ...  معاشرے حالت تعجب والد پیدا البرٹ ٹی فٹزجیرالڈ ...\n",
              "3      مفید البرٹ پیون ردی ٹوکری گریڈ زیڈ جلدی ٹم تھا...  ...  مفید البرٹ پیون ردی ٹوکری گریڈ زیڈ جلدی ٹم تھا...\n",
              "4      کولمبو ہدایتکاری کیریئر ابتدائی وقت اسٹیون اسپ...  ...  کولمبو ہدایتکاری کیریئر ابتدائی وقت اسٹیون اسپ...\n",
              "...                                                  ...  ...                                                ...\n",
              "49995  چیخنا بڑے اسٹوڈیو ہارر پراڈکٹ چیز دنوں مجبور ہ...  ...  چیخنا بڑے اسٹوڈیو ہارر پراڈکٹ چیز دنوں مجبور ہ...\n",
              "49996  براہ راست چھوٹی چھوٹی چھوٹی چھوٹی مدت دورانیہ ...  ...  براہ راست چھوٹی چھوٹی چھوٹی چھوٹی مدت دورانیہ ...\n",
              "49997  فلم کل رات آدھی رات چپکے پیش کش اسکریننگ دیکھا...  ...  فلم کل رات آدھی رات چپکے پیش کش اسکریننگ دیکھا...\n",
              "49998  دیکھنا آسان فلم تین گھنٹے زیادہ لمبا مکمل گفتگ...  ...  دیکھنا آسان فلم تین گھنٹے زیادہ لمبا مکمل گفتگ...\n",
              "49999  ناگرا قدامت پسند ہندوستانی خاندان تعلق مقابلہ ...  ...  ناگرا قدامت پسند ہندوستانی خاندان تعلق مقابلہ ...\n",
              "\n",
              "[50000 rows x 4 columns]"
            ]
          },
          "metadata": {},
          "execution_count": 23
        }
      ]
    },
    {
      "cell_type": "markdown",
      "metadata": {
        "id": "lfe7JSuJLbWg"
      },
      "source": [
        "# Word2Vector Implementation"
      ]
    },
    {
      "cell_type": "code",
      "metadata": {
        "id": "j5vVNvAzLbWg"
      },
      "source": [
        "df_w2v = df.copy() "
      ],
      "execution_count": 24,
      "outputs": []
    },
    {
      "cell_type": "code",
      "metadata": {
        "id": "ABgertoFLbWg",
        "colab": {
          "base_uri": "https://localhost:8080/",
          "height": 467
        },
        "outputId": "8daaad5d-1364-4fc1-bc66-dff673690676"
      },
      "source": [
        "df_w2v"
      ],
      "execution_count": 25,
      "outputs": [
        {
          "output_type": "execute_result",
          "data": {
            "text/html": [
              "\n",
              "  <div id=\"df-7c96c1a3-26ef-41e6-833a-eb6ec6afab9f\">\n",
              "    <div class=\"colab-df-container\">\n",
              "      <div>\n",
              "<style scoped>\n",
              "    .dataframe tbody tr th:only-of-type {\n",
              "        vertical-align: middle;\n",
              "    }\n",
              "\n",
              "    .dataframe tbody tr th {\n",
              "        vertical-align: top;\n",
              "    }\n",
              "\n",
              "    .dataframe thead th {\n",
              "        text-align: right;\n",
              "    }\n",
              "</style>\n",
              "<table border=\"1\" class=\"dataframe\">\n",
              "  <thead>\n",
              "    <tr style=\"text-align: right;\">\n",
              "      <th></th>\n",
              "      <th>review</th>\n",
              "      <th>sentiment</th>\n",
              "      <th>encoded_sentiments</th>\n",
              "      <th>lemmatizer</th>\n",
              "    </tr>\n",
              "  </thead>\n",
              "  <tbody>\n",
              "    <tr>\n",
              "      <th>0</th>\n",
              "      <td>دہائی وسط کیبل گائیڈ اسکائینجر ہنٹ پہلو اپیل ع...</td>\n",
              "      <td>positive</td>\n",
              "      <td>1</td>\n",
              "      <td>دہائی وسط کیبل گائیڈ اسکائینجر ہنٹ پہلو اپیل ع...</td>\n",
              "    </tr>\n",
              "    <tr>\n",
              "      <th>1</th>\n",
              "      <td>دہائی انسپکٹر گیجٹ کارٹون پسند فلم دیکھنے پیسہ...</td>\n",
              "      <td>negative</td>\n",
              "      <td>0</td>\n",
              "      <td>دہائی انسپکٹر گیجٹ کارٹون پسند فلم دیکھنے پیسہ...</td>\n",
              "    </tr>\n",
              "    <tr>\n",
              "      <th>2</th>\n",
              "      <td>معاشرے حالت تعجب والد پیدا البرٹ ٹی فٹزجیرالڈ ...</td>\n",
              "      <td>positive</td>\n",
              "      <td>1</td>\n",
              "      <td>معاشرے حالت تعجب والد پیدا البرٹ ٹی فٹزجیرالڈ ...</td>\n",
              "    </tr>\n",
              "    <tr>\n",
              "      <th>3</th>\n",
              "      <td>مفید البرٹ پیون ردی ٹوکری گریڈ زیڈ جلدی ٹم تھا...</td>\n",
              "      <td>negative</td>\n",
              "      <td>0</td>\n",
              "      <td>مفید البرٹ پیون ردی ٹوکری گریڈ زیڈ جلدی ٹم تھا...</td>\n",
              "    </tr>\n",
              "    <tr>\n",
              "      <th>4</th>\n",
              "      <td>کولمبو ہدایتکاری کیریئر ابتدائی وقت اسٹیون اسپ...</td>\n",
              "      <td>positive</td>\n",
              "      <td>1</td>\n",
              "      <td>کولمبو ہدایتکاری کیریئر ابتدائی وقت اسٹیون اسپ...</td>\n",
              "    </tr>\n",
              "    <tr>\n",
              "      <th>...</th>\n",
              "      <td>...</td>\n",
              "      <td>...</td>\n",
              "      <td>...</td>\n",
              "      <td>...</td>\n",
              "    </tr>\n",
              "    <tr>\n",
              "      <th>49995</th>\n",
              "      <td>چیخنا بڑے اسٹوڈیو ہارر پراڈکٹ چیز دنوں مجبور ہ...</td>\n",
              "      <td>positive</td>\n",
              "      <td>1</td>\n",
              "      <td>چیخنا بڑے اسٹوڈیو ہارر پراڈکٹ چیز دنوں مجبور ہ...</td>\n",
              "    </tr>\n",
              "    <tr>\n",
              "      <th>49996</th>\n",
              "      <td>براہ راست چھوٹی چھوٹی چھوٹی چھوٹی مدت دورانیہ ...</td>\n",
              "      <td>positive</td>\n",
              "      <td>1</td>\n",
              "      <td>براہ راست چھوٹی چھوٹی چھوٹی چھوٹی مدت دورانیہ ...</td>\n",
              "    </tr>\n",
              "    <tr>\n",
              "      <th>49997</th>\n",
              "      <td>فلم کل رات آدھی رات چپکے پیش کش اسکریننگ دیکھا...</td>\n",
              "      <td>negative</td>\n",
              "      <td>0</td>\n",
              "      <td>فلم کل رات آدھی رات چپکے پیش کش اسکریننگ دیکھا...</td>\n",
              "    </tr>\n",
              "    <tr>\n",
              "      <th>49998</th>\n",
              "      <td>دیکھنا آسان فلم تین گھنٹے زیادہ لمبا مکمل گفتگ...</td>\n",
              "      <td>positive</td>\n",
              "      <td>1</td>\n",
              "      <td>دیکھنا آسان فلم تین گھنٹے زیادہ لمبا مکمل گفتگ...</td>\n",
              "    </tr>\n",
              "    <tr>\n",
              "      <th>49999</th>\n",
              "      <td>ناگرا قدامت پسند ہندوستانی خاندان تعلق مقابلہ ...</td>\n",
              "      <td>positive</td>\n",
              "      <td>1</td>\n",
              "      <td>ناگرا قدامت پسند ہندوستانی خاندان تعلق مقابلہ ...</td>\n",
              "    </tr>\n",
              "  </tbody>\n",
              "</table>\n",
              "<p>50000 rows × 4 columns</p>\n",
              "</div>\n",
              "      <button class=\"colab-df-convert\" onclick=\"convertToInteractive('df-7c96c1a3-26ef-41e6-833a-eb6ec6afab9f')\"\n",
              "              title=\"Convert this dataframe to an interactive table.\"\n",
              "              style=\"display:none;\">\n",
              "        \n",
              "  <svg xmlns=\"http://www.w3.org/2000/svg\" height=\"24px\"viewBox=\"0 0 24 24\"\n",
              "       width=\"24px\">\n",
              "    <path d=\"M0 0h24v24H0V0z\" fill=\"none\"/>\n",
              "    <path d=\"M18.56 5.44l.94 2.06.94-2.06 2.06-.94-2.06-.94-.94-2.06-.94 2.06-2.06.94zm-11 1L8.5 8.5l.94-2.06 2.06-.94-2.06-.94L8.5 2.5l-.94 2.06-2.06.94zm10 10l.94 2.06.94-2.06 2.06-.94-2.06-.94-.94-2.06-.94 2.06-2.06.94z\"/><path d=\"M17.41 7.96l-1.37-1.37c-.4-.4-.92-.59-1.43-.59-.52 0-1.04.2-1.43.59L10.3 9.45l-7.72 7.72c-.78.78-.78 2.05 0 2.83L4 21.41c.39.39.9.59 1.41.59.51 0 1.02-.2 1.41-.59l7.78-7.78 2.81-2.81c.8-.78.8-2.07 0-2.86zM5.41 20L4 18.59l7.72-7.72 1.47 1.35L5.41 20z\"/>\n",
              "  </svg>\n",
              "      </button>\n",
              "      \n",
              "  <style>\n",
              "    .colab-df-container {\n",
              "      display:flex;\n",
              "      flex-wrap:wrap;\n",
              "      gap: 12px;\n",
              "    }\n",
              "\n",
              "    .colab-df-convert {\n",
              "      background-color: #E8F0FE;\n",
              "      border: none;\n",
              "      border-radius: 50%;\n",
              "      cursor: pointer;\n",
              "      display: none;\n",
              "      fill: #1967D2;\n",
              "      height: 32px;\n",
              "      padding: 0 0 0 0;\n",
              "      width: 32px;\n",
              "    }\n",
              "\n",
              "    .colab-df-convert:hover {\n",
              "      background-color: #E2EBFA;\n",
              "      box-shadow: 0px 1px 2px rgba(60, 64, 67, 0.3), 0px 1px 3px 1px rgba(60, 64, 67, 0.15);\n",
              "      fill: #174EA6;\n",
              "    }\n",
              "\n",
              "    [theme=dark] .colab-df-convert {\n",
              "      background-color: #3B4455;\n",
              "      fill: #D2E3FC;\n",
              "    }\n",
              "\n",
              "    [theme=dark] .colab-df-convert:hover {\n",
              "      background-color: #434B5C;\n",
              "      box-shadow: 0px 1px 3px 1px rgba(0, 0, 0, 0.15);\n",
              "      filter: drop-shadow(0px 1px 2px rgba(0, 0, 0, 0.3));\n",
              "      fill: #FFFFFF;\n",
              "    }\n",
              "  </style>\n",
              "\n",
              "      <script>\n",
              "        const buttonEl =\n",
              "          document.querySelector('#df-7c96c1a3-26ef-41e6-833a-eb6ec6afab9f button.colab-df-convert');\n",
              "        buttonEl.style.display =\n",
              "          google.colab.kernel.accessAllowed ? 'block' : 'none';\n",
              "\n",
              "        async function convertToInteractive(key) {\n",
              "          const element = document.querySelector('#df-7c96c1a3-26ef-41e6-833a-eb6ec6afab9f');\n",
              "          const dataTable =\n",
              "            await google.colab.kernel.invokeFunction('convertToInteractive',\n",
              "                                                     [key], {});\n",
              "          if (!dataTable) return;\n",
              "\n",
              "          const docLinkHtml = 'Like what you see? Visit the ' +\n",
              "            '<a target=\"_blank\" href=https://colab.research.google.com/notebooks/data_table.ipynb>data table notebook</a>'\n",
              "            + ' to learn more about interactive tables.';\n",
              "          element.innerHTML = '';\n",
              "          dataTable['output_type'] = 'display_data';\n",
              "          await google.colab.output.renderOutput(dataTable, element);\n",
              "          const docLink = document.createElement('div');\n",
              "          docLink.innerHTML = docLinkHtml;\n",
              "          element.appendChild(docLink);\n",
              "        }\n",
              "      </script>\n",
              "    </div>\n",
              "  </div>\n",
              "  "
            ],
            "text/plain": [
              "                                                  review  ...                                         lemmatizer\n",
              "0      دہائی وسط کیبل گائیڈ اسکائینجر ہنٹ پہلو اپیل ع...  ...  دہائی وسط کیبل گائیڈ اسکائینجر ہنٹ پہلو اپیل ع...\n",
              "1      دہائی انسپکٹر گیجٹ کارٹون پسند فلم دیکھنے پیسہ...  ...  دہائی انسپکٹر گیجٹ کارٹون پسند فلم دیکھنے پیسہ...\n",
              "2      معاشرے حالت تعجب والد پیدا البرٹ ٹی فٹزجیرالڈ ...  ...  معاشرے حالت تعجب والد پیدا البرٹ ٹی فٹزجیرالڈ ...\n",
              "3      مفید البرٹ پیون ردی ٹوکری گریڈ زیڈ جلدی ٹم تھا...  ...  مفید البرٹ پیون ردی ٹوکری گریڈ زیڈ جلدی ٹم تھا...\n",
              "4      کولمبو ہدایتکاری کیریئر ابتدائی وقت اسٹیون اسپ...  ...  کولمبو ہدایتکاری کیریئر ابتدائی وقت اسٹیون اسپ...\n",
              "...                                                  ...  ...                                                ...\n",
              "49995  چیخنا بڑے اسٹوڈیو ہارر پراڈکٹ چیز دنوں مجبور ہ...  ...  چیخنا بڑے اسٹوڈیو ہارر پراڈکٹ چیز دنوں مجبور ہ...\n",
              "49996  براہ راست چھوٹی چھوٹی چھوٹی چھوٹی مدت دورانیہ ...  ...  براہ راست چھوٹی چھوٹی چھوٹی چھوٹی مدت دورانیہ ...\n",
              "49997  فلم کل رات آدھی رات چپکے پیش کش اسکریننگ دیکھا...  ...  فلم کل رات آدھی رات چپکے پیش کش اسکریننگ دیکھا...\n",
              "49998  دیکھنا آسان فلم تین گھنٹے زیادہ لمبا مکمل گفتگ...  ...  دیکھنا آسان فلم تین گھنٹے زیادہ لمبا مکمل گفتگ...\n",
              "49999  ناگرا قدامت پسند ہندوستانی خاندان تعلق مقابلہ ...  ...  ناگرا قدامت پسند ہندوستانی خاندان تعلق مقابلہ ...\n",
              "\n",
              "[50000 rows x 4 columns]"
            ]
          },
          "metadata": {},
          "execution_count": 25
        }
      ]
    },
    {
      "cell_type": "code",
      "metadata": {
        "id": "T3Kt0oNuLbWg"
      },
      "source": [
        "import spacy\n",
        "def tokenizer(str):\n",
        "    nlp = spacy.blank('ur')\n",
        "    doc = nlp.tokenizer(str)\n",
        "    return [i.text for i in doc]\n",
        "df_w2v[\"tokens\"] = df_w2v[\"lemmatizer\"].apply(tokenizer)"
      ],
      "execution_count": 26,
      "outputs": []
    },
    {
      "cell_type": "code",
      "metadata": {
        "id": "ZTtlNyyEw11e",
        "colab": {
          "base_uri": "https://localhost:8080/",
          "height": 641
        },
        "outputId": "a9a2548b-b3ed-420b-e24f-bfde51382b12"
      },
      "source": [
        "df_w2v"
      ],
      "execution_count": 27,
      "outputs": [
        {
          "output_type": "execute_result",
          "data": {
            "text/html": [
              "\n",
              "  <div id=\"df-98d1aacb-0bf6-4d17-b3c1-e608c3a38efa\">\n",
              "    <div class=\"colab-df-container\">\n",
              "      <div>\n",
              "<style scoped>\n",
              "    .dataframe tbody tr th:only-of-type {\n",
              "        vertical-align: middle;\n",
              "    }\n",
              "\n",
              "    .dataframe tbody tr th {\n",
              "        vertical-align: top;\n",
              "    }\n",
              "\n",
              "    .dataframe thead th {\n",
              "        text-align: right;\n",
              "    }\n",
              "</style>\n",
              "<table border=\"1\" class=\"dataframe\">\n",
              "  <thead>\n",
              "    <tr style=\"text-align: right;\">\n",
              "      <th></th>\n",
              "      <th>review</th>\n",
              "      <th>sentiment</th>\n",
              "      <th>encoded_sentiments</th>\n",
              "      <th>lemmatizer</th>\n",
              "      <th>tokens</th>\n",
              "    </tr>\n",
              "  </thead>\n",
              "  <tbody>\n",
              "    <tr>\n",
              "      <th>0</th>\n",
              "      <td>دہائی وسط کیبل گائیڈ اسکائینجر ہنٹ پہلو اپیل ع...</td>\n",
              "      <td>positive</td>\n",
              "      <td>1</td>\n",
              "      <td>دہائی وسط کیبل گائیڈ اسکائینجر ہنٹ پہلو اپیل ع...</td>\n",
              "      <td>[دہائی, وسط, کیبل, گائیڈ, اسکائینجر, ہنٹ, پہلو...</td>\n",
              "    </tr>\n",
              "    <tr>\n",
              "      <th>1</th>\n",
              "      <td>دہائی انسپکٹر گیجٹ کارٹون پسند فلم دیکھنے پیسہ...</td>\n",
              "      <td>negative</td>\n",
              "      <td>0</td>\n",
              "      <td>دہائی انسپکٹر گیجٹ کارٹون پسند فلم دیکھنے پیسہ...</td>\n",
              "      <td>[دہائی, انسپکٹر, گیجٹ, کارٹون, پسند, فلم, دیکھ...</td>\n",
              "    </tr>\n",
              "    <tr>\n",
              "      <th>2</th>\n",
              "      <td>معاشرے حالت تعجب والد پیدا البرٹ ٹی فٹزجیرالڈ ...</td>\n",
              "      <td>positive</td>\n",
              "      <td>1</td>\n",
              "      <td>معاشرے حالت تعجب والد پیدا البرٹ ٹی فٹزجیرالڈ ...</td>\n",
              "      <td>[معاشرے, حالت, تعجب, والد, پیدا, البرٹ, ٹی, فٹ...</td>\n",
              "    </tr>\n",
              "    <tr>\n",
              "      <th>3</th>\n",
              "      <td>مفید البرٹ پیون ردی ٹوکری گریڈ زیڈ جلدی ٹم تھا...</td>\n",
              "      <td>negative</td>\n",
              "      <td>0</td>\n",
              "      <td>مفید البرٹ پیون ردی ٹوکری گریڈ زیڈ جلدی ٹم تھا...</td>\n",
              "      <td>[مفید, البرٹ, پیون, ردی, ٹوکری, گریڈ, زیڈ, جلد...</td>\n",
              "    </tr>\n",
              "    <tr>\n",
              "      <th>4</th>\n",
              "      <td>کولمبو ہدایتکاری کیریئر ابتدائی وقت اسٹیون اسپ...</td>\n",
              "      <td>positive</td>\n",
              "      <td>1</td>\n",
              "      <td>کولمبو ہدایتکاری کیریئر ابتدائی وقت اسٹیون اسپ...</td>\n",
              "      <td>[کولمبو, ہدایتکاری, کیریئر, ابتدائی, وقت, اسٹی...</td>\n",
              "    </tr>\n",
              "    <tr>\n",
              "      <th>...</th>\n",
              "      <td>...</td>\n",
              "      <td>...</td>\n",
              "      <td>...</td>\n",
              "      <td>...</td>\n",
              "      <td>...</td>\n",
              "    </tr>\n",
              "    <tr>\n",
              "      <th>49995</th>\n",
              "      <td>چیخنا بڑے اسٹوڈیو ہارر پراڈکٹ چیز دنوں مجبور ہ...</td>\n",
              "      <td>positive</td>\n",
              "      <td>1</td>\n",
              "      <td>چیخنا بڑے اسٹوڈیو ہارر پراڈکٹ چیز دنوں مجبور ہ...</td>\n",
              "      <td>[چیخنا, بڑے, اسٹوڈیو, ہارر, پراڈکٹ, چیز, دنوں,...</td>\n",
              "    </tr>\n",
              "    <tr>\n",
              "      <th>49996</th>\n",
              "      <td>براہ راست چھوٹی چھوٹی چھوٹی چھوٹی مدت دورانیہ ...</td>\n",
              "      <td>positive</td>\n",
              "      <td>1</td>\n",
              "      <td>براہ راست چھوٹی چھوٹی چھوٹی چھوٹی مدت دورانیہ ...</td>\n",
              "      <td>[براہ, راست, چھوٹی, چھوٹی, چھوٹی, چھوٹی, مدت, ...</td>\n",
              "    </tr>\n",
              "    <tr>\n",
              "      <th>49997</th>\n",
              "      <td>فلم کل رات آدھی رات چپکے پیش کش اسکریننگ دیکھا...</td>\n",
              "      <td>negative</td>\n",
              "      <td>0</td>\n",
              "      <td>فلم کل رات آدھی رات چپکے پیش کش اسکریننگ دیکھا...</td>\n",
              "      <td>[فلم, کل, رات, آدھی, رات, چپکے, پیش, کش, اسکری...</td>\n",
              "    </tr>\n",
              "    <tr>\n",
              "      <th>49998</th>\n",
              "      <td>دیکھنا آسان فلم تین گھنٹے زیادہ لمبا مکمل گفتگ...</td>\n",
              "      <td>positive</td>\n",
              "      <td>1</td>\n",
              "      <td>دیکھنا آسان فلم تین گھنٹے زیادہ لمبا مکمل گفتگ...</td>\n",
              "      <td>[دیکھنا, آسان, فلم, تین, گھنٹے, زیادہ, لمبا, م...</td>\n",
              "    </tr>\n",
              "    <tr>\n",
              "      <th>49999</th>\n",
              "      <td>ناگرا قدامت پسند ہندوستانی خاندان تعلق مقابلہ ...</td>\n",
              "      <td>positive</td>\n",
              "      <td>1</td>\n",
              "      <td>ناگرا قدامت پسند ہندوستانی خاندان تعلق مقابلہ ...</td>\n",
              "      <td>[ناگرا, قدامت, پسند, ہندوستانی, خاندان, تعلق, ...</td>\n",
              "    </tr>\n",
              "  </tbody>\n",
              "</table>\n",
              "<p>50000 rows × 5 columns</p>\n",
              "</div>\n",
              "      <button class=\"colab-df-convert\" onclick=\"convertToInteractive('df-98d1aacb-0bf6-4d17-b3c1-e608c3a38efa')\"\n",
              "              title=\"Convert this dataframe to an interactive table.\"\n",
              "              style=\"display:none;\">\n",
              "        \n",
              "  <svg xmlns=\"http://www.w3.org/2000/svg\" height=\"24px\"viewBox=\"0 0 24 24\"\n",
              "       width=\"24px\">\n",
              "    <path d=\"M0 0h24v24H0V0z\" fill=\"none\"/>\n",
              "    <path d=\"M18.56 5.44l.94 2.06.94-2.06 2.06-.94-2.06-.94-.94-2.06-.94 2.06-2.06.94zm-11 1L8.5 8.5l.94-2.06 2.06-.94-2.06-.94L8.5 2.5l-.94 2.06-2.06.94zm10 10l.94 2.06.94-2.06 2.06-.94-2.06-.94-.94-2.06-.94 2.06-2.06.94z\"/><path d=\"M17.41 7.96l-1.37-1.37c-.4-.4-.92-.59-1.43-.59-.52 0-1.04.2-1.43.59L10.3 9.45l-7.72 7.72c-.78.78-.78 2.05 0 2.83L4 21.41c.39.39.9.59 1.41.59.51 0 1.02-.2 1.41-.59l7.78-7.78 2.81-2.81c.8-.78.8-2.07 0-2.86zM5.41 20L4 18.59l7.72-7.72 1.47 1.35L5.41 20z\"/>\n",
              "  </svg>\n",
              "      </button>\n",
              "      \n",
              "  <style>\n",
              "    .colab-df-container {\n",
              "      display:flex;\n",
              "      flex-wrap:wrap;\n",
              "      gap: 12px;\n",
              "    }\n",
              "\n",
              "    .colab-df-convert {\n",
              "      background-color: #E8F0FE;\n",
              "      border: none;\n",
              "      border-radius: 50%;\n",
              "      cursor: pointer;\n",
              "      display: none;\n",
              "      fill: #1967D2;\n",
              "      height: 32px;\n",
              "      padding: 0 0 0 0;\n",
              "      width: 32px;\n",
              "    }\n",
              "\n",
              "    .colab-df-convert:hover {\n",
              "      background-color: #E2EBFA;\n",
              "      box-shadow: 0px 1px 2px rgba(60, 64, 67, 0.3), 0px 1px 3px 1px rgba(60, 64, 67, 0.15);\n",
              "      fill: #174EA6;\n",
              "    }\n",
              "\n",
              "    [theme=dark] .colab-df-convert {\n",
              "      background-color: #3B4455;\n",
              "      fill: #D2E3FC;\n",
              "    }\n",
              "\n",
              "    [theme=dark] .colab-df-convert:hover {\n",
              "      background-color: #434B5C;\n",
              "      box-shadow: 0px 1px 3px 1px rgba(0, 0, 0, 0.15);\n",
              "      filter: drop-shadow(0px 1px 2px rgba(0, 0, 0, 0.3));\n",
              "      fill: #FFFFFF;\n",
              "    }\n",
              "  </style>\n",
              "\n",
              "      <script>\n",
              "        const buttonEl =\n",
              "          document.querySelector('#df-98d1aacb-0bf6-4d17-b3c1-e608c3a38efa button.colab-df-convert');\n",
              "        buttonEl.style.display =\n",
              "          google.colab.kernel.accessAllowed ? 'block' : 'none';\n",
              "\n",
              "        async function convertToInteractive(key) {\n",
              "          const element = document.querySelector('#df-98d1aacb-0bf6-4d17-b3c1-e608c3a38efa');\n",
              "          const dataTable =\n",
              "            await google.colab.kernel.invokeFunction('convertToInteractive',\n",
              "                                                     [key], {});\n",
              "          if (!dataTable) return;\n",
              "\n",
              "          const docLinkHtml = 'Like what you see? Visit the ' +\n",
              "            '<a target=\"_blank\" href=https://colab.research.google.com/notebooks/data_table.ipynb>data table notebook</a>'\n",
              "            + ' to learn more about interactive tables.';\n",
              "          element.innerHTML = '';\n",
              "          dataTable['output_type'] = 'display_data';\n",
              "          await google.colab.output.renderOutput(dataTable, element);\n",
              "          const docLink = document.createElement('div');\n",
              "          docLink.innerHTML = docLinkHtml;\n",
              "          element.appendChild(docLink);\n",
              "        }\n",
              "      </script>\n",
              "    </div>\n",
              "  </div>\n",
              "  "
            ],
            "text/plain": [
              "                                                  review  ...                                             tokens\n",
              "0      دہائی وسط کیبل گائیڈ اسکائینجر ہنٹ پہلو اپیل ع...  ...  [دہائی, وسط, کیبل, گائیڈ, اسکائینجر, ہنٹ, پہلو...\n",
              "1      دہائی انسپکٹر گیجٹ کارٹون پسند فلم دیکھنے پیسہ...  ...  [دہائی, انسپکٹر, گیجٹ, کارٹون, پسند, فلم, دیکھ...\n",
              "2      معاشرے حالت تعجب والد پیدا البرٹ ٹی فٹزجیرالڈ ...  ...  [معاشرے, حالت, تعجب, والد, پیدا, البرٹ, ٹی, فٹ...\n",
              "3      مفید البرٹ پیون ردی ٹوکری گریڈ زیڈ جلدی ٹم تھا...  ...  [مفید, البرٹ, پیون, ردی, ٹوکری, گریڈ, زیڈ, جلد...\n",
              "4      کولمبو ہدایتکاری کیریئر ابتدائی وقت اسٹیون اسپ...  ...  [کولمبو, ہدایتکاری, کیریئر, ابتدائی, وقت, اسٹی...\n",
              "...                                                  ...  ...                                                ...\n",
              "49995  چیخنا بڑے اسٹوڈیو ہارر پراڈکٹ چیز دنوں مجبور ہ...  ...  [چیخنا, بڑے, اسٹوڈیو, ہارر, پراڈکٹ, چیز, دنوں,...\n",
              "49996  براہ راست چھوٹی چھوٹی چھوٹی چھوٹی مدت دورانیہ ...  ...  [براہ, راست, چھوٹی, چھوٹی, چھوٹی, چھوٹی, مدت, ...\n",
              "49997  فلم کل رات آدھی رات چپکے پیش کش اسکریننگ دیکھا...  ...  [فلم, کل, رات, آدھی, رات, چپکے, پیش, کش, اسکری...\n",
              "49998  دیکھنا آسان فلم تین گھنٹے زیادہ لمبا مکمل گفتگ...  ...  [دیکھنا, آسان, فلم, تین, گھنٹے, زیادہ, لمبا, م...\n",
              "49999  ناگرا قدامت پسند ہندوستانی خاندان تعلق مقابلہ ...  ...  [ناگرا, قدامت, پسند, ہندوستانی, خاندان, تعلق, ...\n",
              "\n",
              "[50000 rows x 5 columns]"
            ]
          },
          "metadata": {},
          "execution_count": 27
        }
      ]
    },
    {
      "cell_type": "code",
      "metadata": {
        "id": "DSTf8QdwLbWh"
      },
      "source": [
        "import gensim\n",
        "\n",
        "model_word2vec = gensim.models.Word2Vec(sentences=df_w2v[\"tokens\"], size=128, window=5, workers=10, min_count = 1)"
      ],
      "execution_count": 28,
      "outputs": []
    },
    {
      "cell_type": "code",
      "metadata": {
        "id": "3sIrR8TuLbWh",
        "colab": {
          "base_uri": "https://localhost:8080/"
        },
        "outputId": "7161c95f-4bb9-4c45-d428-bf738b21bb01"
      },
      "source": [
        "model_word2vec.wv.most_similar(\"مرد\")"
      ],
      "execution_count": 29,
      "outputs": [
        {
          "output_type": "execute_result",
          "data": {
            "text/plain": [
              "[('مردوں', 0.7940453290939331),\n",
              " ('خواتین', 0.7470582127571106),\n",
              " ('عورتوں', 0.7303816676139832),\n",
              " ('عورتیں', 0.6928523778915405),\n",
              " ('مردانہ', 0.6783639192581177),\n",
              " ('سیسہ', 0.6746035218238831),\n",
              " ('ڈارونین', 0.6141440868377686),\n",
              " ('عورت', 0.6054088473320007),\n",
              " ('برہنہ', 0.5838421583175659),\n",
              " ('تعصبانہ', 0.5799935460090637)]"
            ]
          },
          "metadata": {},
          "execution_count": 29
        }
      ]
    },
    {
      "cell_type": "code",
      "metadata": {
        "id": "Ow3oWnFMG1Sg",
        "colab": {
          "base_uri": "https://localhost:8080/"
        },
        "outputId": "887d4d8a-2a8a-4244-e69a-ca40350a257d"
      },
      "source": [
        "model_word2vec.wv.most_similar(\"آسان\")"
      ],
      "execution_count": 30,
      "outputs": [
        {
          "output_type": "execute_result",
          "data": {
            "text/plain": [
              "[('مشکل', 0.7474721670150757),\n",
              " ('ناممکن', 0.68934166431427),\n",
              " ('پیچیدہ', 0.5759587287902832),\n",
              " ('ممکن', 0.5504156351089478),\n",
              " ('ضروری', 0.5406731367111206),\n",
              " ('الجھا', 0.5401377081871033),\n",
              " ('چاہتا', 0.52472984790802),\n",
              " ('چاہ', 0.49832165241241455),\n",
              " ('گہرا', 0.4930562376976013),\n",
              " ('اچھا', 0.4918425679206848)]"
            ]
          },
          "metadata": {},
          "execution_count": 30
        }
      ]
    },
    {
      "cell_type": "code",
      "metadata": {
        "id": "kzRMZk7mLbWh",
        "colab": {
          "base_uri": "https://localhost:8080/"
        },
        "outputId": "cae5ccac-6fb6-4699-9ba4-72a8d39e9998"
      },
      "source": [
        "model_word2vec.wv.most_similar(\"عورت\")"
      ],
      "execution_count": 31,
      "outputs": [
        {
          "output_type": "execute_result",
          "data": {
            "text/plain": [
              "[('عورتیں', 0.7681301832199097),\n",
              " ('خاتون', 0.751305103302002),\n",
              " ('لڑکی', 0.738834023475647),\n",
              " ('بیوی', 0.7347434759140015),\n",
              " ('عورتوں', 0.6890699863433838),\n",
              " ('خواتین', 0.688403844833374),\n",
              " ('انٹارٹیک', 0.6482524871826172),\n",
              " ('شوہر', 0.6320929527282715),\n",
              " ('مردوں', 0.6301865577697754),\n",
              " ('کنواری', 0.6166204214096069)]"
            ]
          },
          "metadata": {},
          "execution_count": 31
        }
      ]
    },
    {
      "cell_type": "code",
      "metadata": {
        "id": "1RcaJXDxLbWh",
        "colab": {
          "base_uri": "https://localhost:8080/"
        },
        "outputId": "70214655-4507-46a7-9c07-76b308d104d2"
      },
      "source": [
        "model_word2vec.wv.most_similar(\"خوفناک\")"
      ],
      "execution_count": 32,
      "outputs": [
        {
          "output_type": "execute_result",
          "data": {
            "text/plain": [
              "[('بھیانک', 0.7681288123130798),\n",
              " ('ہولناک', 0.7521224617958069),\n",
              " ('خراب', 0.6935151815414429),\n",
              " ('چوس', 0.6191720962524414),\n",
              " ('ناقص', 0.6191550493240356),\n",
              " ('بیکار', 0.6168568730354309),\n",
              " ('لنگڑا', 0.6053914427757263),\n",
              " ('ناگوار', 0.5995261669158936),\n",
              " ('گڑبڑ', 0.5989890694618225),\n",
              " ('بدتر', 0.5971508026123047)]"
            ]
          },
          "metadata": {},
          "execution_count": 32
        }
      ]
    },
    {
      "cell_type": "code",
      "metadata": {
        "id": "whuIDQYFLbWi",
        "colab": {
          "base_uri": "https://localhost:8080/"
        },
        "outputId": "6c4fc6aa-f246-47db-967b-8566701df8b0"
      },
      "source": [
        "model_word2vec.wv.most_similar(\"فلم\")"
      ],
      "execution_count": 33,
      "outputs": [
        {
          "output_type": "execute_result",
          "data": {
            "text/plain": [
              "[('مووی', 0.7321195602416992),\n",
              " ('چیز', 0.6482917070388794),\n",
              " ('فلموں', 0.6383703947067261),\n",
              " ('ایمانداری', 0.6140381097793579),\n",
              " ('فلمیں', 0.5894556641578674),\n",
              " ('اصلیت', 0.5769081711769104),\n",
              " ('واقعتا', 0.5610347986221313),\n",
              " ('بہرحال', 0.5586883425712585),\n",
              " ('سوچ', 0.5461415648460388),\n",
              " ('سوچا', 0.5449891090393066)]"
            ]
          },
          "metadata": {},
          "execution_count": 33
        }
      ]
    },
    {
      "cell_type": "code",
      "metadata": {
        "id": "Pv4jw6QhLbWi",
        "colab": {
          "base_uri": "https://localhost:8080/"
        },
        "outputId": "ed578487-2911-43ea-8bf8-33033ddec366"
      },
      "source": [
        "model_word2vec.wv.most_similar(\"کارٹون\")"
      ],
      "execution_count": 34,
      "outputs": [
        {
          "output_type": "execute_result",
          "data": {
            "text/plain": [
              "[('کارٹونوں', 0.6882274746894836),\n",
              " ('شوز', 0.6235853433609009),\n",
              " ('ڈزنی', 0.6116088628768921),\n",
              " ('شو', 0.590408205986023),\n",
              " ('मूरख', 0.5691637992858887),\n",
              " ('گرافکس', 0.5554906129837036),\n",
              " ('سیریز', 0.5549313426017761),\n",
              " ('انیمیشن', 0.5534813404083252),\n",
              " ('اقساط', 0.5501503348350525),\n",
              " ('لوونی', 0.5477954149246216)]"
            ]
          },
          "metadata": {},
          "execution_count": 34
        }
      ]
    },
    {
      "cell_type": "code",
      "metadata": {
        "id": "Q-vjs5EELbWi"
      },
      "source": [
        "VOCAB_SIZE = len(model_word2vec.wv.vocab)\n",
        "DIMENSIONS = 128\n",
        "MAX_LEN = max([len(x) for x in df_w2v[\"tokens\"]])"
      ],
      "execution_count": 35,
      "outputs": []
    },
    {
      "cell_type": "code",
      "metadata": {
        "id": "iBZOiwcVLbWi",
        "colab": {
          "base_uri": "https://localhost:8080/"
        },
        "outputId": "4db3d026-7806-4757-ad85-42398e4a4e20"
      },
      "source": [
        "VOCAB_SIZE, DIMENSIONS, MAX_LEN"
      ],
      "execution_count": 36,
      "outputs": [
        {
          "output_type": "execute_result",
          "data": {
            "text/plain": [
              "(101871, 128, 1398)"
            ]
          },
          "metadata": {},
          "execution_count": 36
        }
      ]
    },
    {
      "cell_type": "code",
      "metadata": {
        "id": "_Zuv5lMULbWj"
      },
      "source": [
        "from keras.preprocessing.text import Tokenizer\n",
        "token = Tokenizer()\n",
        "token.fit_on_texts(df_w2v[\"tokens\"])\n",
        "encoded = token.texts_to_sequences(df_w2v[\"tokens\"])"
      ],
      "execution_count": 37,
      "outputs": []
    },
    {
      "cell_type": "code",
      "metadata": {
        "id": "wybyPWwSLbWj",
        "colab": {
          "base_uri": "https://localhost:8080/"
        },
        "outputId": "d59158a9-78fe-48f1-abf0-3686e88842b8"
      },
      "source": [
        "words2vec_matrix = np.zeros((VOCAB_SIZE+1,DIMENSIONS))\n",
        "\n",
        "for word, index in token.word_index.items():\n",
        "    try:\n",
        "        words2vec_matrix[index] = model_word2vec.wv[word]\n",
        "    except:\n",
        "        print(index, word)"
      ],
      "execution_count": 38,
      "outputs": [
        {
          "output_type": "stream",
          "name": "stdout",
          "text": [
            "62872 æ\n",
            "81766 üنل\n",
            "99677 üüü\n",
            "100531 žžžž\n"
          ]
        }
      ]
    },
    {
      "cell_type": "code",
      "metadata": {
        "id": "reFbHv9DLbWk"
      },
      "source": [
        "import tensorflow as tf\n",
        "\n",
        "train_vectors = tf.keras.preprocessing.sequence.pad_sequences(encoded,padding='post',dtype=int)"
      ],
      "execution_count": 39,
      "outputs": []
    },
    {
      "cell_type": "code",
      "metadata": {
        "id": "VOtWhYNSLbWl"
      },
      "source": [
        "train_label = df_w2v.sentiment.apply(lambda x: 1 if x == \"positive\" else 0)"
      ],
      "execution_count": 40,
      "outputs": []
    },
    {
      "cell_type": "code",
      "metadata": {
        "id": "IKxGmDQPLbWl",
        "colab": {
          "base_uri": "https://localhost:8080/"
        },
        "outputId": "48a88a27-dc8f-46e2-e08e-a6deb8e2b4dc"
      },
      "source": [
        "from sklearn.model_selection import train_test_split\n",
        "(train_sentences,test_sentences, train_tags, test_tags) = train_test_split(train_vectors, train_label, test_size=0.2)\n",
        "train_sentences.shape,train_tags.shape, test_sentences.shape"
      ],
      "execution_count": 41,
      "outputs": [
        {
          "output_type": "execute_result",
          "data": {
            "text/plain": [
              "((40000, 1398), (40000,), (10000, 1398))"
            ]
          },
          "metadata": {},
          "execution_count": 41
        }
      ]
    },
    {
      "cell_type": "markdown",
      "metadata": {
        "id": "3HOC8yfBRrhD"
      },
      "source": [
        "# LSTM"
      ]
    },
    {
      "cell_type": "code",
      "metadata": {
        "id": "05y7B3e3rSyh",
        "colab": {
          "base_uri": "https://localhost:8080/"
        },
        "outputId": "ea9dc55f-a43c-4d1b-aaf8-64cad4d9e630"
      },
      "source": [
        "from tensorflow.keras.optimizers import RMSprop\n",
        "from keras.callbacks import ModelCheckpoint\n",
        "from tensorflow.keras.callbacks import EarlyStopping\n",
        "import tensorflow.keras.layers as Layers\n",
        "import tensorflow.keras.activations as Actications\n",
        "import tensorflow.keras.models as Models\n",
        "from tensorflow.keras.optimizers import Adam, Optimizer, SGD\n",
        "import tensorflow.keras.initializers as Init\n",
        "from keras.regularizers import l2\n",
        "with tf.device('/device:GPU:0'):\n",
        "  lstm1 = Models.Sequential()\n",
        "  lstm1.add(Layers.Embedding(VOCAB_SIZE+1,DIMENSIONS, embeddings_initializer = Init.Constant(words2vec_matrix), input_length=MAX_LEN, trainable=False ))\n",
        "  lstm1.add(Layers.Bidirectional(Layers.LSTM(90,activation='tanh',bias_regularizer=l2(0.01))))\n",
        "  lstm1.add(Layers.Dense(32,activation='tanh'))\n",
        "  lstm1.add(Layers.Dropout(0.3))\n",
        "  lstm1.add(Layers.Dense(1,activation='sigmoid'))\n",
        "  lstm1.compile(loss='binary_crossentropy', optimizer='adam', metrics=['accuracy'])\n",
        "  es_callback = EarlyStopping(monitor='val_loss', patience=3)\n",
        "  history = lstm1.fit(train_sentences,train_tags,epochs=20, validation_split=0.3, callbacks=[es_callback], shuffle=True)\n"
      ],
      "execution_count": 42,
      "outputs": [
        {
          "output_type": "stream",
          "name": "stdout",
          "text": [
            "Epoch 1/20\n",
            "875/875 [==============================] - 514s 578ms/step - loss: 1.2823 - accuracy: 0.7727 - val_loss: 0.6585 - val_accuracy: 0.8161\n",
            "Epoch 2/20\n",
            "875/875 [==============================] - 505s 577ms/step - loss: 0.5361 - accuracy: 0.8329 - val_loss: 0.5300 - val_accuracy: 0.8012\n",
            "Epoch 3/20\n",
            "875/875 [==============================] - 505s 577ms/step - loss: 0.4417 - accuracy: 0.8494 - val_loss: 0.4413 - val_accuracy: 0.8487\n",
            "Epoch 4/20\n",
            "875/875 [==============================] - 505s 577ms/step - loss: 0.3937 - accuracy: 0.8636 - val_loss: 0.4203 - val_accuracy: 0.8497\n",
            "Epoch 5/20\n",
            "875/875 [==============================] - 504s 576ms/step - loss: 0.3512 - accuracy: 0.8776 - val_loss: 0.4203 - val_accuracy: 0.8487\n",
            "Epoch 6/20\n",
            "875/875 [==============================] - 505s 577ms/step - loss: 0.3123 - accuracy: 0.8913 - val_loss: 0.3964 - val_accuracy: 0.8528\n",
            "Epoch 7/20\n",
            "875/875 [==============================] - 504s 577ms/step - loss: 0.2679 - accuracy: 0.9070 - val_loss: 0.4166 - val_accuracy: 0.8432\n",
            "Epoch 8/20\n",
            "875/875 [==============================] - 506s 579ms/step - loss: 0.2250 - accuracy: 0.9227 - val_loss: 0.4430 - val_accuracy: 0.8453\n",
            "Epoch 9/20\n",
            "875/875 [==============================] - 507s 579ms/step - loss: 0.1792 - accuracy: 0.9381 - val_loss: 0.4902 - val_accuracy: 0.8295\n"
          ]
        }
      ]
    },
    {
      "cell_type": "code",
      "metadata": {
        "id": "E5TsutB9brcO",
        "colab": {
          "base_uri": "https://localhost:8080/"
        },
        "outputId": "45e4e0b2-673b-4581-ede6-232c9b129af4"
      },
      "source": [
        "from sklearn.metrics import classification_report\n",
        "from sklearn.metrics import confusion_matrix\n",
        "print(classification_report(lstm1.predict(test_sentences).round(), test_tags))"
      ],
      "execution_count": 43,
      "outputs": [
        {
          "output_type": "stream",
          "name": "stdout",
          "text": [
            "              precision    recall  f1-score   support\n",
            "\n",
            "         0.0       0.88      0.81      0.84      5397\n",
            "         1.0       0.80      0.86      0.83      4603\n",
            "\n",
            "    accuracy                           0.84     10000\n",
            "   macro avg       0.84      0.84      0.84     10000\n",
            "weighted avg       0.84      0.84      0.84     10000\n",
            "\n"
          ]
        }
      ]
    },
    {
      "cell_type": "code",
      "metadata": {
        "id": "Oqm0II0UcA2C",
        "colab": {
          "base_uri": "https://localhost:8080/",
          "height": 295
        },
        "outputId": "84067a20-f370-431d-b1fe-b329260b9384"
      },
      "source": [
        "import matplotlib.pyplot as plt\n",
        "plt.plot(history.history['loss'])\n",
        "plt.plot(history.history['val_loss'])\n",
        "plt.title('model train vs validation loss')\n",
        "plt.ylabel('loss')\n",
        "plt.xlabel('epoch')\n",
        "plt.legend(['train', 'validation'], loc='upper right')\n",
        "plt.show()"
      ],
      "execution_count": 44,
      "outputs": [
        {
          "output_type": "display_data",
          "data": {
            "image/png": "[encoded data removed]",
            "text/plain": [
              "<Figure size 432x288 with 1 Axes>"
            ]
          },
          "metadata": {
            "needs_background": "light"
          }
        }
      ]
    },
    {
      "cell_type": "code",
      "metadata": {
        "id": "UM0VGIwXco1n",
        "colab": {
          "base_uri": "https://localhost:8080/",
          "height": 295
        },
        "outputId": "6ac9ee46-9674-4bc9-eb09-a1dac09a32bd"
      },
      "source": [
        "plt.plot(history.history['accuracy'])\n",
        "plt.plot(history.history['val_accuracy'])\n",
        "plt.title('model accuracy')\n",
        "plt.ylabel('accuracy')\n",
        "plt.xlabel('epoch')\n",
        "plt.legend(['training_accu', 'val_accu'], loc='upper left')\n",
        "plt.show()"
      ],
      "execution_count": 45,
      "outputs": [
        {
          "output_type": "display_data",
          "data": {
            "image/png": "[encoded data removed]",
            "text/plain": [
              "<Figure size 432x288 with 1 Axes>"
            ]
          },
          "metadata": {
            "needs_background": "light"
          }
        }
      ]
    },
    {
      "cell_type": "code",
      "source": [
        ""
      ],
      "metadata": {
        "id": "Xvmp2ewT03NQ"
      },
      "execution_count": null,
      "outputs": []
    }
  ]
}